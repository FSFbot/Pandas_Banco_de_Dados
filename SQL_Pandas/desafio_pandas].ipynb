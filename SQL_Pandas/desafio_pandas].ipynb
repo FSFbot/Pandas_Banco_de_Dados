{
 "cells": [
  {
   "cell_type": "code",
   "execution_count": 17,
   "id": "initial_id",
   "metadata": {
    "collapsed": true,
    "ExecuteTime": {
     "end_time": "2023-12-20T20:00:36.338055500Z",
     "start_time": "2023-12-20T20:00:36.329906100Z"
    }
   },
   "outputs": [],
   "source": [
    "import pandas as pd \n",
    "import sqlalchemy\n",
    "from sqlalchemy import create_engine, MetaData, inspect, Table, text\n"
   ]
  },
  {
   "cell_type": "code",
   "execution_count": 9,
   "outputs": [],
   "source": [
    "url = 'https://raw.githubusercontent.com/alura-cursos/Pandas/main/clientes_banco.csv'\n",
    "engine = create_engine('sqlite:///:memory:')\n",
    "\n",
    "dados = pd.read_csv(url)\n"
   ],
   "metadata": {
    "collapsed": false,
    "ExecuteTime": {
     "end_time": "2023-12-20T19:51:58.933932400Z",
     "start_time": "2023-12-20T19:51:57.001046600Z"
    }
   },
   "id": "515a6861e6f4e279"
  },
  {
   "cell_type": "code",
   "execution_count": 10,
   "outputs": [
    {
     "data": {
      "text/plain": "438463"
     },
     "execution_count": 10,
     "metadata": {},
     "output_type": "execute_result"
    }
   ],
   "source": [
    "dados.to_sql('Clientes',engine, index = False )"
   ],
   "metadata": {
    "collapsed": false,
    "ExecuteTime": {
     "end_time": "2023-12-20T19:52:37.961112800Z",
     "start_time": "2023-12-20T19:52:34.705575Z"
    }
   },
   "id": "5772eacb52177fcc"
  },
  {
   "cell_type": "code",
   "execution_count": 12,
   "outputs": [
    {
     "name": "stdout",
     "output_type": "stream",
     "text": [
      "['Clientes']\n"
     ]
    }
   ],
   "source": [
    "inspec=inspect(engine)\n",
    "print(inspec.get_table_names())"
   ],
   "metadata": {
    "collapsed": false,
    "ExecuteTime": {
     "end_time": "2023-12-20T19:53:20.605584700Z",
     "start_time": "2023-12-20T19:53:20.601404200Z"
    }
   },
   "id": "c9a1965e8d6a27df"
  },
  {
   "cell_type": "code",
   "execution_count": 13,
   "outputs": [
    {
     "data": {
      "text/plain": "        ID_Cliente  Idade Grau_escolaridade   Estado_civil  Tamanho_familia  \\\n0          5008804     32   Ensino superior  União-estável                2   \n1          5008805     32   Ensino superior  União-estável                2   \n2          5008806     58      Ensino médio         Casado                2   \n3          5008808     52      Ensino médio       Solteiro                1   \n4          5008809     52      Ensino médio       Solteiro                1   \n...            ...    ...               ...            ...              ...   \n438458     6840104     62      Ensino médio     Divorciado                1   \n438459     6840222     43      Ensino médio       Solteiro                1   \n438460     6841878     22   Ensino superior       Solteiro                1   \n438461     6842765     59      Ensino médio         Casado                2   \n438462     6842885     51      Ensino médio         Casado                2   \n\n         Categoria_de_renda          Ocupacao  Anos_empregado  \\\n0                 Empregado             Outro              12   \n1                 Empregado             Outro              12   \n2                 Empregado         Segurança               3   \n3       Associado comercial            Vendas               8   \n4       Associado comercial            Vendas               8   \n...                     ...               ...             ...   \n438458          Pensionista             Outro               0   \n438459            Empregado  Construção Civil               8   \n438460  Associado comercial            Vendas               1   \n438461          Pensionista             Outro               0   \n438462            Empregado            Vendas               3   \n\n        Rendimento_anual  Tem_carro                   Moradia  \n0               427500.0          1       Apartamento alugado  \n1               427500.0          1       Apartamento alugado  \n2               112500.0          1  Casa/apartamento próprio  \n3               270000.0          0  Casa/apartamento próprio  \n4               270000.0          0  Casa/apartamento próprio  \n...                  ...        ...                       ...  \n438458          135000.0          0  Casa/apartamento próprio  \n438459          103500.0          0  Casa/apartamento próprio  \n438460           54000.0          0          Mora com os pais  \n438461           72000.0          0  Casa/apartamento próprio  \n438462          121500.0          0  Casa/apartamento próprio  \n\n[438463 rows x 11 columns]",
      "text/html": "<div>\n<style scoped>\n    .dataframe tbody tr th:only-of-type {\n        vertical-align: middle;\n    }\n\n    .dataframe tbody tr th {\n        vertical-align: top;\n    }\n\n    .dataframe thead th {\n        text-align: right;\n    }\n</style>\n<table border=\"1\" class=\"dataframe\">\n  <thead>\n    <tr style=\"text-align: right;\">\n      <th></th>\n      <th>ID_Cliente</th>\n      <th>Idade</th>\n      <th>Grau_escolaridade</th>\n      <th>Estado_civil</th>\n      <th>Tamanho_familia</th>\n      <th>Categoria_de_renda</th>\n      <th>Ocupacao</th>\n      <th>Anos_empregado</th>\n      <th>Rendimento_anual</th>\n      <th>Tem_carro</th>\n      <th>Moradia</th>\n    </tr>\n  </thead>\n  <tbody>\n    <tr>\n      <th>0</th>\n      <td>5008804</td>\n      <td>32</td>\n      <td>Ensino superior</td>\n      <td>União-estável</td>\n      <td>2</td>\n      <td>Empregado</td>\n      <td>Outro</td>\n      <td>12</td>\n      <td>427500.0</td>\n      <td>1</td>\n      <td>Apartamento alugado</td>\n    </tr>\n    <tr>\n      <th>1</th>\n      <td>5008805</td>\n      <td>32</td>\n      <td>Ensino superior</td>\n      <td>União-estável</td>\n      <td>2</td>\n      <td>Empregado</td>\n      <td>Outro</td>\n      <td>12</td>\n      <td>427500.0</td>\n      <td>1</td>\n      <td>Apartamento alugado</td>\n    </tr>\n    <tr>\n      <th>2</th>\n      <td>5008806</td>\n      <td>58</td>\n      <td>Ensino médio</td>\n      <td>Casado</td>\n      <td>2</td>\n      <td>Empregado</td>\n      <td>Segurança</td>\n      <td>3</td>\n      <td>112500.0</td>\n      <td>1</td>\n      <td>Casa/apartamento próprio</td>\n    </tr>\n    <tr>\n      <th>3</th>\n      <td>5008808</td>\n      <td>52</td>\n      <td>Ensino médio</td>\n      <td>Solteiro</td>\n      <td>1</td>\n      <td>Associado comercial</td>\n      <td>Vendas</td>\n      <td>8</td>\n      <td>270000.0</td>\n      <td>0</td>\n      <td>Casa/apartamento próprio</td>\n    </tr>\n    <tr>\n      <th>4</th>\n      <td>5008809</td>\n      <td>52</td>\n      <td>Ensino médio</td>\n      <td>Solteiro</td>\n      <td>1</td>\n      <td>Associado comercial</td>\n      <td>Vendas</td>\n      <td>8</td>\n      <td>270000.0</td>\n      <td>0</td>\n      <td>Casa/apartamento próprio</td>\n    </tr>\n    <tr>\n      <th>...</th>\n      <td>...</td>\n      <td>...</td>\n      <td>...</td>\n      <td>...</td>\n      <td>...</td>\n      <td>...</td>\n      <td>...</td>\n      <td>...</td>\n      <td>...</td>\n      <td>...</td>\n      <td>...</td>\n    </tr>\n    <tr>\n      <th>438458</th>\n      <td>6840104</td>\n      <td>62</td>\n      <td>Ensino médio</td>\n      <td>Divorciado</td>\n      <td>1</td>\n      <td>Pensionista</td>\n      <td>Outro</td>\n      <td>0</td>\n      <td>135000.0</td>\n      <td>0</td>\n      <td>Casa/apartamento próprio</td>\n    </tr>\n    <tr>\n      <th>438459</th>\n      <td>6840222</td>\n      <td>43</td>\n      <td>Ensino médio</td>\n      <td>Solteiro</td>\n      <td>1</td>\n      <td>Empregado</td>\n      <td>Construção Civil</td>\n      <td>8</td>\n      <td>103500.0</td>\n      <td>0</td>\n      <td>Casa/apartamento próprio</td>\n    </tr>\n    <tr>\n      <th>438460</th>\n      <td>6841878</td>\n      <td>22</td>\n      <td>Ensino superior</td>\n      <td>Solteiro</td>\n      <td>1</td>\n      <td>Associado comercial</td>\n      <td>Vendas</td>\n      <td>1</td>\n      <td>54000.0</td>\n      <td>0</td>\n      <td>Mora com os pais</td>\n    </tr>\n    <tr>\n      <th>438461</th>\n      <td>6842765</td>\n      <td>59</td>\n      <td>Ensino médio</td>\n      <td>Casado</td>\n      <td>2</td>\n      <td>Pensionista</td>\n      <td>Outro</td>\n      <td>0</td>\n      <td>72000.0</td>\n      <td>0</td>\n      <td>Casa/apartamento próprio</td>\n    </tr>\n    <tr>\n      <th>438462</th>\n      <td>6842885</td>\n      <td>51</td>\n      <td>Ensino médio</td>\n      <td>Casado</td>\n      <td>2</td>\n      <td>Empregado</td>\n      <td>Vendas</td>\n      <td>3</td>\n      <td>121500.0</td>\n      <td>0</td>\n      <td>Casa/apartamento próprio</td>\n    </tr>\n  </tbody>\n</table>\n<p>438463 rows × 11 columns</p>\n</div>"
     },
     "execution_count": 13,
     "metadata": {},
     "output_type": "execute_result"
    }
   ],
   "source": [
    "pd.read_sql_table('Clientes', engine)"
   ],
   "metadata": {
    "collapsed": false,
    "ExecuteTime": {
     "end_time": "2023-12-20T19:54:35.501542100Z",
     "start_time": "2023-12-20T19:54:32.971020100Z"
    }
   },
   "id": "825c3c2c892e35b2"
  },
  {
   "cell_type": "code",
   "execution_count": 18,
   "outputs": [],
   "source": [
    "query = 'UPDATE Clientes SET Rendimento_anual=300000.0 WHERE ID_Cliente=6840104'\n",
    "with engine.connect() as conn:\n",
    "    conn.execute(text(query))\n",
    "    conn.commit()\n"
   ],
   "metadata": {
    "collapsed": false,
    "ExecuteTime": {
     "end_time": "2023-12-20T20:01:23.287776900Z",
     "start_time": "2023-12-20T20:01:23.252509300Z"
    }
   },
   "id": "79e5c90d8ed61d1"
  },
  {
   "cell_type": "code",
   "execution_count": 19,
   "outputs": [],
   "source": [
    "query = 'delete from clientes where ID_Cliente=5008809'\n",
    "with engine.connect() as conn:\n",
    "    conn.execute(text(query))\n",
    "    conn.commit()"
   ],
   "metadata": {
    "collapsed": false,
    "ExecuteTime": {
     "end_time": "2023-12-20T20:03:00.362664600Z",
     "start_time": "2023-12-20T20:03:00.325966900Z"
    }
   },
   "id": "b34a64e23751dc94"
  },
  {
   "cell_type": "code",
   "execution_count": 20,
   "outputs": [],
   "source": [
    "query = 'INSERT INTO clientes (ID_Cliente, Idade, Grau_escolaridade, Estado_civil, ' \\\n",
    "        'Tamanho_familia, Categoria_de_renda, Ocupacao, Anos_empregado, ' \\\n",
    "        'Rendimento_anual, Tem_carro, Moradia) ' \\\n",
    "        'VALUES (6850985, 33, \"Doutorado\", \"Solteiro\", 1, \"Empregado\", \"TI\", ' \\\n",
    "        '2, 290000, 0, \"Casa/apartamento próprio\")'\n",
    "\n",
    "with engine.connect() as conn:\n",
    "    conn.execute(text(query))\n",
    "    conn.commit()\n"
   ],
   "metadata": {
    "collapsed": false,
    "ExecuteTime": {
     "end_time": "2023-12-20T20:03:39.889397300Z",
     "start_time": "2023-12-20T20:03:39.882621500Z"
    }
   },
   "id": "3a61d051f1b8f7f4"
  },
  {
   "cell_type": "code",
   "execution_count": 21,
   "outputs": [
    {
     "data": {
      "text/plain": "        ID_Cliente  Idade Grau_escolaridade   Estado_civil  Tamanho_familia  \\\n0          5008804     32   Ensino superior  União-estável                2   \n1          5008805     32   Ensino superior  União-estável                2   \n2          5008806     58      Ensino médio         Casado                2   \n3          5008808     52      Ensino médio       Solteiro                1   \n4          5008810     52      Ensino médio       Solteiro                1   \n...            ...    ...               ...            ...              ...   \n438458     6840222     43      Ensino médio       Solteiro                1   \n438459     6841878     22   Ensino superior       Solteiro                1   \n438460     6842765     59      Ensino médio         Casado                2   \n438461     6842885     51      Ensino médio         Casado                2   \n438462     6850985     33         Doutorado       Solteiro                1   \n\n         Categoria_de_renda          Ocupacao  Anos_empregado  \\\n0                 Empregado             Outro              12   \n1                 Empregado             Outro              12   \n2                 Empregado         Segurança               3   \n3       Associado comercial            Vendas               8   \n4       Associado comercial            Vendas               8   \n...                     ...               ...             ...   \n438458            Empregado  Construção Civil               8   \n438459  Associado comercial            Vendas               1   \n438460          Pensionista             Outro               0   \n438461            Empregado            Vendas               3   \n438462            Empregado                TI               2   \n\n        Rendimento_anual  Tem_carro                   Moradia  \n0               427500.0          1       Apartamento alugado  \n1               427500.0          1       Apartamento alugado  \n2               112500.0          1  Casa/apartamento próprio  \n3               270000.0          0  Casa/apartamento próprio  \n4               270000.0          0  Casa/apartamento próprio  \n...                  ...        ...                       ...  \n438458          103500.0          0  Casa/apartamento próprio  \n438459           54000.0          0          Mora com os pais  \n438460           72000.0          0  Casa/apartamento próprio  \n438461          121500.0          0  Casa/apartamento próprio  \n438462          290000.0          0  Casa/apartamento próprio  \n\n[438463 rows x 11 columns]",
      "text/html": "<div>\n<style scoped>\n    .dataframe tbody tr th:only-of-type {\n        vertical-align: middle;\n    }\n\n    .dataframe tbody tr th {\n        vertical-align: top;\n    }\n\n    .dataframe thead th {\n        text-align: right;\n    }\n</style>\n<table border=\"1\" class=\"dataframe\">\n  <thead>\n    <tr style=\"text-align: right;\">\n      <th></th>\n      <th>ID_Cliente</th>\n      <th>Idade</th>\n      <th>Grau_escolaridade</th>\n      <th>Estado_civil</th>\n      <th>Tamanho_familia</th>\n      <th>Categoria_de_renda</th>\n      <th>Ocupacao</th>\n      <th>Anos_empregado</th>\n      <th>Rendimento_anual</th>\n      <th>Tem_carro</th>\n      <th>Moradia</th>\n    </tr>\n  </thead>\n  <tbody>\n    <tr>\n      <th>0</th>\n      <td>5008804</td>\n      <td>32</td>\n      <td>Ensino superior</td>\n      <td>União-estável</td>\n      <td>2</td>\n      <td>Empregado</td>\n      <td>Outro</td>\n      <td>12</td>\n      <td>427500.0</td>\n      <td>1</td>\n      <td>Apartamento alugado</td>\n    </tr>\n    <tr>\n      <th>1</th>\n      <td>5008805</td>\n      <td>32</td>\n      <td>Ensino superior</td>\n      <td>União-estável</td>\n      <td>2</td>\n      <td>Empregado</td>\n      <td>Outro</td>\n      <td>12</td>\n      <td>427500.0</td>\n      <td>1</td>\n      <td>Apartamento alugado</td>\n    </tr>\n    <tr>\n      <th>2</th>\n      <td>5008806</td>\n      <td>58</td>\n      <td>Ensino médio</td>\n      <td>Casado</td>\n      <td>2</td>\n      <td>Empregado</td>\n      <td>Segurança</td>\n      <td>3</td>\n      <td>112500.0</td>\n      <td>1</td>\n      <td>Casa/apartamento próprio</td>\n    </tr>\n    <tr>\n      <th>3</th>\n      <td>5008808</td>\n      <td>52</td>\n      <td>Ensino médio</td>\n      <td>Solteiro</td>\n      <td>1</td>\n      <td>Associado comercial</td>\n      <td>Vendas</td>\n      <td>8</td>\n      <td>270000.0</td>\n      <td>0</td>\n      <td>Casa/apartamento próprio</td>\n    </tr>\n    <tr>\n      <th>4</th>\n      <td>5008810</td>\n      <td>52</td>\n      <td>Ensino médio</td>\n      <td>Solteiro</td>\n      <td>1</td>\n      <td>Associado comercial</td>\n      <td>Vendas</td>\n      <td>8</td>\n      <td>270000.0</td>\n      <td>0</td>\n      <td>Casa/apartamento próprio</td>\n    </tr>\n    <tr>\n      <th>...</th>\n      <td>...</td>\n      <td>...</td>\n      <td>...</td>\n      <td>...</td>\n      <td>...</td>\n      <td>...</td>\n      <td>...</td>\n      <td>...</td>\n      <td>...</td>\n      <td>...</td>\n      <td>...</td>\n    </tr>\n    <tr>\n      <th>438458</th>\n      <td>6840222</td>\n      <td>43</td>\n      <td>Ensino médio</td>\n      <td>Solteiro</td>\n      <td>1</td>\n      <td>Empregado</td>\n      <td>Construção Civil</td>\n      <td>8</td>\n      <td>103500.0</td>\n      <td>0</td>\n      <td>Casa/apartamento próprio</td>\n    </tr>\n    <tr>\n      <th>438459</th>\n      <td>6841878</td>\n      <td>22</td>\n      <td>Ensino superior</td>\n      <td>Solteiro</td>\n      <td>1</td>\n      <td>Associado comercial</td>\n      <td>Vendas</td>\n      <td>1</td>\n      <td>54000.0</td>\n      <td>0</td>\n      <td>Mora com os pais</td>\n    </tr>\n    <tr>\n      <th>438460</th>\n      <td>6842765</td>\n      <td>59</td>\n      <td>Ensino médio</td>\n      <td>Casado</td>\n      <td>2</td>\n      <td>Pensionista</td>\n      <td>Outro</td>\n      <td>0</td>\n      <td>72000.0</td>\n      <td>0</td>\n      <td>Casa/apartamento próprio</td>\n    </tr>\n    <tr>\n      <th>438461</th>\n      <td>6842885</td>\n      <td>51</td>\n      <td>Ensino médio</td>\n      <td>Casado</td>\n      <td>2</td>\n      <td>Empregado</td>\n      <td>Vendas</td>\n      <td>3</td>\n      <td>121500.0</td>\n      <td>0</td>\n      <td>Casa/apartamento próprio</td>\n    </tr>\n    <tr>\n      <th>438462</th>\n      <td>6850985</td>\n      <td>33</td>\n      <td>Doutorado</td>\n      <td>Solteiro</td>\n      <td>1</td>\n      <td>Empregado</td>\n      <td>TI</td>\n      <td>2</td>\n      <td>290000.0</td>\n      <td>0</td>\n      <td>Casa/apartamento próprio</td>\n    </tr>\n  </tbody>\n</table>\n<p>438463 rows × 11 columns</p>\n</div>"
     },
     "execution_count": 21,
     "metadata": {},
     "output_type": "execute_result"
    }
   ],
   "source": [
    "pd.read_sql_table('Clientes', engine)"
   ],
   "metadata": {
    "collapsed": false,
    "ExecuteTime": {
     "end_time": "2023-12-20T20:04:09.389488500Z",
     "start_time": "2023-12-20T20:04:07.097532100Z"
    }
   },
   "id": "806a8b1cf4267c3b"
  }
 ],
 "metadata": {
  "kernelspec": {
   "display_name": "Python 3",
   "language": "python",
   "name": "python3"
  },
  "language_info": {
   "codemirror_mode": {
    "name": "ipython",
    "version": 2
   },
   "file_extension": ".py",
   "mimetype": "text/x-python",
   "name": "python",
   "nbconvert_exporter": "python",
   "pygments_lexer": "ipython2",
   "version": "2.7.6"
  }
 },
 "nbformat": 4,
 "nbformat_minor": 5
}
