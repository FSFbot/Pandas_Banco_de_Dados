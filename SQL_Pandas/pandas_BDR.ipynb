{
 "cells": [
  {
   "cell_type": "code",
   "execution_count": 3,
   "id": "initial_id",
   "metadata": {
    "collapsed": true,
    "ExecuteTime": {
     "end_time": "2023-12-20T19:09:37.365485900Z",
     "start_time": "2023-12-20T19:09:36.432950500Z"
    }
   },
   "outputs": [],
   "source": [
    "import pandas as pd\n",
    "import sqlalchemy\n"
   ]
  },
  {
   "cell_type": "code",
   "execution_count": 23,
   "outputs": [],
   "source": [
    "from sqlalchemy import create_engine, MetaData, Table, inspect\n",
    "from sqlalchemy.orm import sessionmaker\n",
    "from sqlalchemy.sql import delete"
   ],
   "metadata": {
    "collapsed": false,
    "ExecuteTime": {
     "end_time": "2023-12-20T19:25:14.802778200Z",
     "start_time": "2023-12-20T19:25:14.795421600Z"
    }
   },
   "id": "8578820fef396623"
  },
  {
   "cell_type": "code",
   "execution_count": 5,
   "outputs": [],
   "source": [
    "engine = create_engine('sqlite:///:memory:')"
   ],
   "metadata": {
    "collapsed": false,
    "ExecuteTime": {
     "end_time": "2023-12-20T19:09:37.431733Z",
     "start_time": "2023-12-20T19:09:37.376308500Z"
    }
   },
   "id": "d44487725d3f5b8e"
  },
  {
   "cell_type": "code",
   "execution_count": 6,
   "outputs": [],
   "source": [
    "url = 'https://raw.githubusercontent.com/alura-cursos/Pandas/main/clientes_banco.csv'"
   ],
   "metadata": {
    "collapsed": false,
    "ExecuteTime": {
     "end_time": "2023-12-20T19:09:37.432772400Z",
     "start_time": "2023-12-20T19:09:37.415288400Z"
    }
   },
   "id": "b1b3a393b1a27432"
  },
  {
   "cell_type": "code",
   "execution_count": 7,
   "outputs": [
    {
     "data": {
      "text/plain": "   ID_Cliente  Idade Grau_escolaridade   Estado_civil  Tamanho_familia  \\\n0     5008804     32   Ensino superior  União-estável                2   \n1     5008805     32   Ensino superior  União-estável                2   \n2     5008806     58      Ensino médio         Casado                2   \n3     5008808     52      Ensino médio       Solteiro                1   \n4     5008809     52      Ensino médio       Solteiro                1   \n\n    Categoria_de_renda   Ocupacao  Anos_empregado  Rendimento_anual  \\\n0            Empregado      Outro              12          427500.0   \n1            Empregado      Outro              12          427500.0   \n2            Empregado  Segurança               3          112500.0   \n3  Associado comercial     Vendas               8          270000.0   \n4  Associado comercial     Vendas               8          270000.0   \n\n   Tem_carro                   Moradia  \n0          1       Apartamento alugado  \n1          1       Apartamento alugado  \n2          1  Casa/apartamento próprio  \n3          0  Casa/apartamento próprio  \n4          0  Casa/apartamento próprio  ",
      "text/html": "<div>\n<style scoped>\n    .dataframe tbody tr th:only-of-type {\n        vertical-align: middle;\n    }\n\n    .dataframe tbody tr th {\n        vertical-align: top;\n    }\n\n    .dataframe thead th {\n        text-align: right;\n    }\n</style>\n<table border=\"1\" class=\"dataframe\">\n  <thead>\n    <tr style=\"text-align: right;\">\n      <th></th>\n      <th>ID_Cliente</th>\n      <th>Idade</th>\n      <th>Grau_escolaridade</th>\n      <th>Estado_civil</th>\n      <th>Tamanho_familia</th>\n      <th>Categoria_de_renda</th>\n      <th>Ocupacao</th>\n      <th>Anos_empregado</th>\n      <th>Rendimento_anual</th>\n      <th>Tem_carro</th>\n      <th>Moradia</th>\n    </tr>\n  </thead>\n  <tbody>\n    <tr>\n      <th>0</th>\n      <td>5008804</td>\n      <td>32</td>\n      <td>Ensino superior</td>\n      <td>União-estável</td>\n      <td>2</td>\n      <td>Empregado</td>\n      <td>Outro</td>\n      <td>12</td>\n      <td>427500.0</td>\n      <td>1</td>\n      <td>Apartamento alugado</td>\n    </tr>\n    <tr>\n      <th>1</th>\n      <td>5008805</td>\n      <td>32</td>\n      <td>Ensino superior</td>\n      <td>União-estável</td>\n      <td>2</td>\n      <td>Empregado</td>\n      <td>Outro</td>\n      <td>12</td>\n      <td>427500.0</td>\n      <td>1</td>\n      <td>Apartamento alugado</td>\n    </tr>\n    <tr>\n      <th>2</th>\n      <td>5008806</td>\n      <td>58</td>\n      <td>Ensino médio</td>\n      <td>Casado</td>\n      <td>2</td>\n      <td>Empregado</td>\n      <td>Segurança</td>\n      <td>3</td>\n      <td>112500.0</td>\n      <td>1</td>\n      <td>Casa/apartamento próprio</td>\n    </tr>\n    <tr>\n      <th>3</th>\n      <td>5008808</td>\n      <td>52</td>\n      <td>Ensino médio</td>\n      <td>Solteiro</td>\n      <td>1</td>\n      <td>Associado comercial</td>\n      <td>Vendas</td>\n      <td>8</td>\n      <td>270000.0</td>\n      <td>0</td>\n      <td>Casa/apartamento próprio</td>\n    </tr>\n    <tr>\n      <th>4</th>\n      <td>5008809</td>\n      <td>52</td>\n      <td>Ensino médio</td>\n      <td>Solteiro</td>\n      <td>1</td>\n      <td>Associado comercial</td>\n      <td>Vendas</td>\n      <td>8</td>\n      <td>270000.0</td>\n      <td>0</td>\n      <td>Casa/apartamento próprio</td>\n    </tr>\n  </tbody>\n</table>\n</div>"
     },
     "execution_count": 7,
     "metadata": {},
     "output_type": "execute_result"
    }
   ],
   "source": [
    "data = pd.read_csv(url)\n",
    "data.head()"
   ],
   "metadata": {
    "collapsed": false,
    "ExecuteTime": {
     "end_time": "2023-12-20T19:09:39.223079800Z",
     "start_time": "2023-12-20T19:09:37.423642400Z"
    }
   },
   "id": "5f4f77d294e544b"
  },
  {
   "cell_type": "code",
   "execution_count": 8,
   "outputs": [
    {
     "data": {
      "text/plain": "438463"
     },
     "execution_count": 8,
     "metadata": {},
     "output_type": "execute_result"
    }
   ],
   "source": [
    "data.to_sql('Clientes',engine, index = False)"
   ],
   "metadata": {
    "collapsed": false,
    "ExecuteTime": {
     "end_time": "2023-12-20T19:09:42.763808600Z",
     "start_time": "2023-12-20T19:09:39.218061500Z"
    }
   },
   "id": "fcd2981729cdb9c5"
  },
  {
   "cell_type": "code",
   "execution_count": 9,
   "outputs": [],
   "source": [
    "inspector = inspect(engine)"
   ],
   "metadata": {
    "collapsed": false,
    "ExecuteTime": {
     "end_time": "2023-12-20T19:09:42.764845Z",
     "start_time": "2023-12-20T19:09:42.740424600Z"
    }
   },
   "id": "48da8cd8d4d7d045"
  },
  {
   "cell_type": "code",
   "execution_count": 10,
   "outputs": [
    {
     "name": "stdout",
     "output_type": "stream",
     "text": [
      "['Clientes']\n"
     ]
    }
   ],
   "source": [
    "print(inspector.get_table_names())"
   ],
   "metadata": {
    "collapsed": false,
    "ExecuteTime": {
     "end_time": "2023-12-20T19:09:42.804793700Z",
     "start_time": "2023-12-20T19:09:42.747826800Z"
    }
   },
   "id": "9e2e2df6f039f719"
  },
  {
   "cell_type": "code",
   "execution_count": 11,
   "outputs": [],
   "source": [
    "query = 'select * from Clientes where Categoria_de_renda = \"Empregado\" '"
   ],
   "metadata": {
    "collapsed": false,
    "ExecuteTime": {
     "end_time": "2023-12-20T19:09:42.806488300Z",
     "start_time": "2023-12-20T19:09:42.764326400Z"
    }
   },
   "id": "56bcc2a5dd60e07c"
  },
  {
   "cell_type": "code",
   "execution_count": 12,
   "outputs": [
    {
     "data": {
      "text/plain": "        ID_Cliente  Idade Grau_escolaridade   Estado_civil  Tamanho_familia  \\\n0          5008804     32   Ensino superior  União-estável                2   \n1          5008805     32   Ensino superior  União-estável                2   \n2          5008806     58      Ensino médio         Casado                2   \n3          5008815     46   Ensino superior         Casado                2   \n4          5112956     46   Ensino superior         Casado                2   \n...            ...    ...               ...            ...              ...   \n226054     6837905     43      Ensino médio         Casado                3   \n226055     6837906     43      Ensino médio         Casado                3   \n226056     6839936     34      Ensino médio         Casado                3   \n226057     6840222     43      Ensino médio       Solteiro                1   \n226058     6842885     51      Ensino médio         Casado                2   \n\n       Categoria_de_renda          Ocupacao  Anos_empregado  Rendimento_anual  \\\n0               Empregado             Outro              12          427500.0   \n1               Empregado             Outro              12          427500.0   \n2               Empregado         Segurança               3          112500.0   \n3               Empregado     Contabilidade               2          270000.0   \n4               Empregado     Contabilidade               2          270000.0   \n...                   ...               ...             ...               ...   \n226054          Empregado             Outro               7          355050.0   \n226055          Empregado             Outro               7          355050.0   \n226056          Empregado  Construção Civil               5          135000.0   \n226057          Empregado  Construção Civil               8          103500.0   \n226058          Empregado            Vendas               3          121500.0   \n\n        Tem_carro                   Moradia  \n0               1       Apartamento alugado  \n1               1       Apartamento alugado  \n2               1  Casa/apartamento próprio  \n3               1  Casa/apartamento próprio  \n4               1  Casa/apartamento próprio  \n...           ...                       ...  \n226054          1  Casa/apartamento próprio  \n226055          1  Casa/apartamento próprio  \n226056          1  Casa/apartamento próprio  \n226057          0  Casa/apartamento próprio  \n226058          0  Casa/apartamento próprio  \n\n[226059 rows x 11 columns]",
      "text/html": "<div>\n<style scoped>\n    .dataframe tbody tr th:only-of-type {\n        vertical-align: middle;\n    }\n\n    .dataframe tbody tr th {\n        vertical-align: top;\n    }\n\n    .dataframe thead th {\n        text-align: right;\n    }\n</style>\n<table border=\"1\" class=\"dataframe\">\n  <thead>\n    <tr style=\"text-align: right;\">\n      <th></th>\n      <th>ID_Cliente</th>\n      <th>Idade</th>\n      <th>Grau_escolaridade</th>\n      <th>Estado_civil</th>\n      <th>Tamanho_familia</th>\n      <th>Categoria_de_renda</th>\n      <th>Ocupacao</th>\n      <th>Anos_empregado</th>\n      <th>Rendimento_anual</th>\n      <th>Tem_carro</th>\n      <th>Moradia</th>\n    </tr>\n  </thead>\n  <tbody>\n    <tr>\n      <th>0</th>\n      <td>5008804</td>\n      <td>32</td>\n      <td>Ensino superior</td>\n      <td>União-estável</td>\n      <td>2</td>\n      <td>Empregado</td>\n      <td>Outro</td>\n      <td>12</td>\n      <td>427500.0</td>\n      <td>1</td>\n      <td>Apartamento alugado</td>\n    </tr>\n    <tr>\n      <th>1</th>\n      <td>5008805</td>\n      <td>32</td>\n      <td>Ensino superior</td>\n      <td>União-estável</td>\n      <td>2</td>\n      <td>Empregado</td>\n      <td>Outro</td>\n      <td>12</td>\n      <td>427500.0</td>\n      <td>1</td>\n      <td>Apartamento alugado</td>\n    </tr>\n    <tr>\n      <th>2</th>\n      <td>5008806</td>\n      <td>58</td>\n      <td>Ensino médio</td>\n      <td>Casado</td>\n      <td>2</td>\n      <td>Empregado</td>\n      <td>Segurança</td>\n      <td>3</td>\n      <td>112500.0</td>\n      <td>1</td>\n      <td>Casa/apartamento próprio</td>\n    </tr>\n    <tr>\n      <th>3</th>\n      <td>5008815</td>\n      <td>46</td>\n      <td>Ensino superior</td>\n      <td>Casado</td>\n      <td>2</td>\n      <td>Empregado</td>\n      <td>Contabilidade</td>\n      <td>2</td>\n      <td>270000.0</td>\n      <td>1</td>\n      <td>Casa/apartamento próprio</td>\n    </tr>\n    <tr>\n      <th>4</th>\n      <td>5112956</td>\n      <td>46</td>\n      <td>Ensino superior</td>\n      <td>Casado</td>\n      <td>2</td>\n      <td>Empregado</td>\n      <td>Contabilidade</td>\n      <td>2</td>\n      <td>270000.0</td>\n      <td>1</td>\n      <td>Casa/apartamento próprio</td>\n    </tr>\n    <tr>\n      <th>...</th>\n      <td>...</td>\n      <td>...</td>\n      <td>...</td>\n      <td>...</td>\n      <td>...</td>\n      <td>...</td>\n      <td>...</td>\n      <td>...</td>\n      <td>...</td>\n      <td>...</td>\n      <td>...</td>\n    </tr>\n    <tr>\n      <th>226054</th>\n      <td>6837905</td>\n      <td>43</td>\n      <td>Ensino médio</td>\n      <td>Casado</td>\n      <td>3</td>\n      <td>Empregado</td>\n      <td>Outro</td>\n      <td>7</td>\n      <td>355050.0</td>\n      <td>1</td>\n      <td>Casa/apartamento próprio</td>\n    </tr>\n    <tr>\n      <th>226055</th>\n      <td>6837906</td>\n      <td>43</td>\n      <td>Ensino médio</td>\n      <td>Casado</td>\n      <td>3</td>\n      <td>Empregado</td>\n      <td>Outro</td>\n      <td>7</td>\n      <td>355050.0</td>\n      <td>1</td>\n      <td>Casa/apartamento próprio</td>\n    </tr>\n    <tr>\n      <th>226056</th>\n      <td>6839936</td>\n      <td>34</td>\n      <td>Ensino médio</td>\n      <td>Casado</td>\n      <td>3</td>\n      <td>Empregado</td>\n      <td>Construção Civil</td>\n      <td>5</td>\n      <td>135000.0</td>\n      <td>1</td>\n      <td>Casa/apartamento próprio</td>\n    </tr>\n    <tr>\n      <th>226057</th>\n      <td>6840222</td>\n      <td>43</td>\n      <td>Ensino médio</td>\n      <td>Solteiro</td>\n      <td>1</td>\n      <td>Empregado</td>\n      <td>Construção Civil</td>\n      <td>8</td>\n      <td>103500.0</td>\n      <td>0</td>\n      <td>Casa/apartamento próprio</td>\n    </tr>\n    <tr>\n      <th>226058</th>\n      <td>6842885</td>\n      <td>51</td>\n      <td>Ensino médio</td>\n      <td>Casado</td>\n      <td>2</td>\n      <td>Empregado</td>\n      <td>Vendas</td>\n      <td>3</td>\n      <td>121500.0</td>\n      <td>0</td>\n      <td>Casa/apartamento próprio</td>\n    </tr>\n  </tbody>\n</table>\n<p>226059 rows × 11 columns</p>\n</div>"
     },
     "execution_count": 12,
     "metadata": {},
     "output_type": "execute_result"
    }
   ],
   "source": [
    "empregados = pd.read_sql(query,engine)\n",
    "empregados"
   ],
   "metadata": {
    "collapsed": false,
    "ExecuteTime": {
     "end_time": "2023-12-20T19:09:43.986062400Z",
     "start_time": "2023-12-20T19:09:42.774913400Z"
    }
   },
   "id": "ee564af875cab2e7"
  },
  {
   "cell_type": "code",
   "execution_count": 13,
   "outputs": [
    {
     "data": {
      "text/plain": "226059"
     },
     "execution_count": 13,
     "metadata": {},
     "output_type": "execute_result"
    }
   ],
   "source": [
    "empregados.to_sql('Empregados', con=engine, index= False)"
   ],
   "metadata": {
    "collapsed": false,
    "ExecuteTime": {
     "end_time": "2023-12-20T19:10:55.352554800Z",
     "start_time": "2023-12-20T19:10:52.534475100Z"
    }
   },
   "id": "937e427ce3b0cc1b"
  },
  {
   "cell_type": "code",
   "execution_count": 16,
   "outputs": [
    {
     "data": {
      "text/plain": "        ID_Cliente Grau_escolaridade  Rendimento_anual\n0          5008804   Ensino superior          427500.0\n1          5008805   Ensino superior          427500.0\n2          5008806      Ensino médio          112500.0\n3          5008815   Ensino superior          270000.0\n4          5112956   Ensino superior          270000.0\n...            ...               ...               ...\n226054     6837905      Ensino médio          355050.0\n226055     6837906      Ensino médio          355050.0\n226056     6839936      Ensino médio          135000.0\n226057     6840222      Ensino médio          103500.0\n226058     6842885      Ensino médio          121500.0\n\n[226059 rows x 3 columns]",
      "text/html": "<div>\n<style scoped>\n    .dataframe tbody tr th:only-of-type {\n        vertical-align: middle;\n    }\n\n    .dataframe tbody tr th {\n        vertical-align: top;\n    }\n\n    .dataframe thead th {\n        text-align: right;\n    }\n</style>\n<table border=\"1\" class=\"dataframe\">\n  <thead>\n    <tr style=\"text-align: right;\">\n      <th></th>\n      <th>ID_Cliente</th>\n      <th>Grau_escolaridade</th>\n      <th>Rendimento_anual</th>\n    </tr>\n  </thead>\n  <tbody>\n    <tr>\n      <th>0</th>\n      <td>5008804</td>\n      <td>Ensino superior</td>\n      <td>427500.0</td>\n    </tr>\n    <tr>\n      <th>1</th>\n      <td>5008805</td>\n      <td>Ensino superior</td>\n      <td>427500.0</td>\n    </tr>\n    <tr>\n      <th>2</th>\n      <td>5008806</td>\n      <td>Ensino médio</td>\n      <td>112500.0</td>\n    </tr>\n    <tr>\n      <th>3</th>\n      <td>5008815</td>\n      <td>Ensino superior</td>\n      <td>270000.0</td>\n    </tr>\n    <tr>\n      <th>4</th>\n      <td>5112956</td>\n      <td>Ensino superior</td>\n      <td>270000.0</td>\n    </tr>\n    <tr>\n      <th>...</th>\n      <td>...</td>\n      <td>...</td>\n      <td>...</td>\n    </tr>\n    <tr>\n      <th>226054</th>\n      <td>6837905</td>\n      <td>Ensino médio</td>\n      <td>355050.0</td>\n    </tr>\n    <tr>\n      <th>226055</th>\n      <td>6837906</td>\n      <td>Ensino médio</td>\n      <td>355050.0</td>\n    </tr>\n    <tr>\n      <th>226056</th>\n      <td>6839936</td>\n      <td>Ensino médio</td>\n      <td>135000.0</td>\n    </tr>\n    <tr>\n      <th>226057</th>\n      <td>6840222</td>\n      <td>Ensino médio</td>\n      <td>103500.0</td>\n    </tr>\n    <tr>\n      <th>226058</th>\n      <td>6842885</td>\n      <td>Ensino médio</td>\n      <td>121500.0</td>\n    </tr>\n  </tbody>\n</table>\n<p>226059 rows × 3 columns</p>\n</div>"
     },
     "execution_count": 16,
     "metadata": {},
     "output_type": "execute_result"
    }
   ],
   "source": [
    "pd.read_sql_table('Empregados', engine, columns=['ID_Cliente','Grau_escolaridade', 'Rendimento_anual'])"
   ],
   "metadata": {
    "collapsed": false,
    "ExecuteTime": {
     "end_time": "2023-12-20T19:13:39.088057900Z",
     "start_time": "2023-12-20T19:13:38.428358800Z"
    }
   },
   "id": "6c7e3a68296f117f"
  },
  {
   "cell_type": "code",
   "execution_count": 17,
   "outputs": [],
   "source": [
    "query = 'select * from clientes'"
   ],
   "metadata": {
    "collapsed": false,
    "ExecuteTime": {
     "end_time": "2023-12-20T19:14:44.599442600Z",
     "start_time": "2023-12-20T19:14:44.583801100Z"
    }
   },
   "id": "98885273fbfef38a"
  },
  {
   "cell_type": "code",
   "execution_count": 18,
   "outputs": [
    {
     "data": {
      "text/plain": "        ID_Cliente  Idade Grau_escolaridade   Estado_civil  Tamanho_familia  \\\n0          5008804     32   Ensino superior  União-estável                2   \n1          5008805     32   Ensino superior  União-estável                2   \n2          5008806     58      Ensino médio         Casado                2   \n3          5008808     52      Ensino médio       Solteiro                1   \n4          5008809     52      Ensino médio       Solteiro                1   \n...            ...    ...               ...            ...              ...   \n438458     6840104     62      Ensino médio     Divorciado                1   \n438459     6840222     43      Ensino médio       Solteiro                1   \n438460     6841878     22   Ensino superior       Solteiro                1   \n438461     6842765     59      Ensino médio         Casado                2   \n438462     6842885     51      Ensino médio         Casado                2   \n\n         Categoria_de_renda          Ocupacao  Anos_empregado  \\\n0                 Empregado             Outro              12   \n1                 Empregado             Outro              12   \n2                 Empregado         Segurança               3   \n3       Associado comercial            Vendas               8   \n4       Associado comercial            Vendas               8   \n...                     ...               ...             ...   \n438458          Pensionista             Outro               0   \n438459            Empregado  Construção Civil               8   \n438460  Associado comercial            Vendas               1   \n438461          Pensionista             Outro               0   \n438462            Empregado            Vendas               3   \n\n        Rendimento_anual  Tem_carro                   Moradia  \n0               427500.0          1       Apartamento alugado  \n1               427500.0          1       Apartamento alugado  \n2               112500.0          1  Casa/apartamento próprio  \n3               270000.0          0  Casa/apartamento próprio  \n4               270000.0          0  Casa/apartamento próprio  \n...                  ...        ...                       ...  \n438458          135000.0          0  Casa/apartamento próprio  \n438459          103500.0          0  Casa/apartamento próprio  \n438460           54000.0          0          Mora com os pais  \n438461           72000.0          0  Casa/apartamento próprio  \n438462          121500.0          0  Casa/apartamento próprio  \n\n[438463 rows x 11 columns]",
      "text/html": "<div>\n<style scoped>\n    .dataframe tbody tr th:only-of-type {\n        vertical-align: middle;\n    }\n\n    .dataframe tbody tr th {\n        vertical-align: top;\n    }\n\n    .dataframe thead th {\n        text-align: right;\n    }\n</style>\n<table border=\"1\" class=\"dataframe\">\n  <thead>\n    <tr style=\"text-align: right;\">\n      <th></th>\n      <th>ID_Cliente</th>\n      <th>Idade</th>\n      <th>Grau_escolaridade</th>\n      <th>Estado_civil</th>\n      <th>Tamanho_familia</th>\n      <th>Categoria_de_renda</th>\n      <th>Ocupacao</th>\n      <th>Anos_empregado</th>\n      <th>Rendimento_anual</th>\n      <th>Tem_carro</th>\n      <th>Moradia</th>\n    </tr>\n  </thead>\n  <tbody>\n    <tr>\n      <th>0</th>\n      <td>5008804</td>\n      <td>32</td>\n      <td>Ensino superior</td>\n      <td>União-estável</td>\n      <td>2</td>\n      <td>Empregado</td>\n      <td>Outro</td>\n      <td>12</td>\n      <td>427500.0</td>\n      <td>1</td>\n      <td>Apartamento alugado</td>\n    </tr>\n    <tr>\n      <th>1</th>\n      <td>5008805</td>\n      <td>32</td>\n      <td>Ensino superior</td>\n      <td>União-estável</td>\n      <td>2</td>\n      <td>Empregado</td>\n      <td>Outro</td>\n      <td>12</td>\n      <td>427500.0</td>\n      <td>1</td>\n      <td>Apartamento alugado</td>\n    </tr>\n    <tr>\n      <th>2</th>\n      <td>5008806</td>\n      <td>58</td>\n      <td>Ensino médio</td>\n      <td>Casado</td>\n      <td>2</td>\n      <td>Empregado</td>\n      <td>Segurança</td>\n      <td>3</td>\n      <td>112500.0</td>\n      <td>1</td>\n      <td>Casa/apartamento próprio</td>\n    </tr>\n    <tr>\n      <th>3</th>\n      <td>5008808</td>\n      <td>52</td>\n      <td>Ensino médio</td>\n      <td>Solteiro</td>\n      <td>1</td>\n      <td>Associado comercial</td>\n      <td>Vendas</td>\n      <td>8</td>\n      <td>270000.0</td>\n      <td>0</td>\n      <td>Casa/apartamento próprio</td>\n    </tr>\n    <tr>\n      <th>4</th>\n      <td>5008809</td>\n      <td>52</td>\n      <td>Ensino médio</td>\n      <td>Solteiro</td>\n      <td>1</td>\n      <td>Associado comercial</td>\n      <td>Vendas</td>\n      <td>8</td>\n      <td>270000.0</td>\n      <td>0</td>\n      <td>Casa/apartamento próprio</td>\n    </tr>\n    <tr>\n      <th>...</th>\n      <td>...</td>\n      <td>...</td>\n      <td>...</td>\n      <td>...</td>\n      <td>...</td>\n      <td>...</td>\n      <td>...</td>\n      <td>...</td>\n      <td>...</td>\n      <td>...</td>\n      <td>...</td>\n    </tr>\n    <tr>\n      <th>438458</th>\n      <td>6840104</td>\n      <td>62</td>\n      <td>Ensino médio</td>\n      <td>Divorciado</td>\n      <td>1</td>\n      <td>Pensionista</td>\n      <td>Outro</td>\n      <td>0</td>\n      <td>135000.0</td>\n      <td>0</td>\n      <td>Casa/apartamento próprio</td>\n    </tr>\n    <tr>\n      <th>438459</th>\n      <td>6840222</td>\n      <td>43</td>\n      <td>Ensino médio</td>\n      <td>Solteiro</td>\n      <td>1</td>\n      <td>Empregado</td>\n      <td>Construção Civil</td>\n      <td>8</td>\n      <td>103500.0</td>\n      <td>0</td>\n      <td>Casa/apartamento próprio</td>\n    </tr>\n    <tr>\n      <th>438460</th>\n      <td>6841878</td>\n      <td>22</td>\n      <td>Ensino superior</td>\n      <td>Solteiro</td>\n      <td>1</td>\n      <td>Associado comercial</td>\n      <td>Vendas</td>\n      <td>1</td>\n      <td>54000.0</td>\n      <td>0</td>\n      <td>Mora com os pais</td>\n    </tr>\n    <tr>\n      <th>438461</th>\n      <td>6842765</td>\n      <td>59</td>\n      <td>Ensino médio</td>\n      <td>Casado</td>\n      <td>2</td>\n      <td>Pensionista</td>\n      <td>Outro</td>\n      <td>0</td>\n      <td>72000.0</td>\n      <td>0</td>\n      <td>Casa/apartamento próprio</td>\n    </tr>\n    <tr>\n      <th>438462</th>\n      <td>6842885</td>\n      <td>51</td>\n      <td>Ensino médio</td>\n      <td>Casado</td>\n      <td>2</td>\n      <td>Empregado</td>\n      <td>Vendas</td>\n      <td>3</td>\n      <td>121500.0</td>\n      <td>0</td>\n      <td>Casa/apartamento próprio</td>\n    </tr>\n  </tbody>\n</table>\n<p>438463 rows × 11 columns</p>\n</div>"
     },
     "execution_count": 18,
     "metadata": {},
     "output_type": "execute_result"
    }
   ],
   "source": [
    "pd.read_sql(query,engine)"
   ],
   "metadata": {
    "collapsed": false,
    "ExecuteTime": {
     "end_time": "2023-12-20T19:15:18.699617500Z",
     "start_time": "2023-12-20T19:15:15.104341300Z"
    }
   },
   "id": "5496793e1a16547c"
  },
  {
   "cell_type": "code",
   "execution_count": 27,
   "outputs": [
    {
     "ename": "ObjectNotExecutableError",
     "evalue": "Not an executable object: 'DELETE FROM clientes WHERE ID_Cliente=5008804'",
     "output_type": "error",
     "traceback": [
      "\u001B[1;31m---------------------------------------------------------------------------\u001B[0m",
      "\u001B[1;31mAttributeError\u001B[0m                            Traceback (most recent call last)",
      "File \u001B[1;32m~\\AppData\\Local\\Programs\\Python\\Python311\\Lib\\site-packages\\sqlalchemy\\engine\\base.py:1412\u001B[0m, in \u001B[0;36mConnection.execute\u001B[1;34m(self, statement, parameters, execution_options)\u001B[0m\n\u001B[0;32m   1411\u001B[0m \u001B[38;5;28;01mtry\u001B[39;00m:\n\u001B[1;32m-> 1412\u001B[0m     meth \u001B[38;5;241m=\u001B[39m \u001B[43mstatement\u001B[49m\u001B[38;5;241;43m.\u001B[39;49m\u001B[43m_execute_on_connection\u001B[49m\n\u001B[0;32m   1413\u001B[0m \u001B[38;5;28;01mexcept\u001B[39;00m \u001B[38;5;167;01mAttributeError\u001B[39;00m \u001B[38;5;28;01mas\u001B[39;00m err:\n",
      "\u001B[1;31mAttributeError\u001B[0m: 'str' object has no attribute '_execute_on_connection'",
      "\nThe above exception was the direct cause of the following exception:\n",
      "\u001B[1;31mObjectNotExecutableError\u001B[0m                  Traceback (most recent call last)",
      "Cell \u001B[1;32mIn[27], line 3\u001B[0m\n\u001B[0;32m      1\u001B[0m query \u001B[38;5;241m=\u001B[39m \u001B[38;5;124m'\u001B[39m\u001B[38;5;124mDELETE FROM clientes WHERE ID_Cliente=5008804\u001B[39m\u001B[38;5;124m'\u001B[39m\n\u001B[0;32m      2\u001B[0m \u001B[38;5;28;01mwith\u001B[39;00m engine\u001B[38;5;241m.\u001B[39mconnect() \u001B[38;5;28;01mas\u001B[39;00m conn:\n\u001B[1;32m----> 3\u001B[0m     \u001B[43mconn\u001B[49m\u001B[38;5;241;43m.\u001B[39;49m\u001B[43mexecute\u001B[49m\u001B[43m(\u001B[49m\u001B[43mquery\u001B[49m\u001B[43m)\u001B[49m\n",
      "File \u001B[1;32m~\\AppData\\Local\\Programs\\Python\\Python311\\Lib\\site-packages\\sqlalchemy\\engine\\base.py:1414\u001B[0m, in \u001B[0;36mConnection.execute\u001B[1;34m(self, statement, parameters, execution_options)\u001B[0m\n\u001B[0;32m   1412\u001B[0m     meth \u001B[38;5;241m=\u001B[39m statement\u001B[38;5;241m.\u001B[39m_execute_on_connection\n\u001B[0;32m   1413\u001B[0m \u001B[38;5;28;01mexcept\u001B[39;00m \u001B[38;5;167;01mAttributeError\u001B[39;00m \u001B[38;5;28;01mas\u001B[39;00m err:\n\u001B[1;32m-> 1414\u001B[0m     \u001B[38;5;28;01mraise\u001B[39;00m exc\u001B[38;5;241m.\u001B[39mObjectNotExecutableError(statement) \u001B[38;5;28;01mfrom\u001B[39;00m \u001B[38;5;21;01merr\u001B[39;00m\n\u001B[0;32m   1415\u001B[0m \u001B[38;5;28;01melse\u001B[39;00m:\n\u001B[0;32m   1416\u001B[0m     \u001B[38;5;28;01mreturn\u001B[39;00m meth(\n\u001B[0;32m   1417\u001B[0m         \u001B[38;5;28mself\u001B[39m,\n\u001B[0;32m   1418\u001B[0m         distilled_parameters,\n\u001B[0;32m   1419\u001B[0m         execution_options \u001B[38;5;129;01mor\u001B[39;00m NO_OPTIONS,\n\u001B[0;32m   1420\u001B[0m     )\n",
      "\u001B[1;31mObjectNotExecutableError\u001B[0m: Not an executable object: 'DELETE FROM clientes WHERE ID_Cliente=5008804'"
     ]
    }
   ],
   "source": [
    "query = 'DELETE FROM clientes WHERE ID_Cliente=5008804'\n",
    "with engine.connect() as conn:\n",
    "    conn.execute(query)"
   ],
   "metadata": {
    "collapsed": false,
    "ExecuteTime": {
     "end_time": "2023-12-20T19:26:40.572198600Z",
     "start_time": "2023-12-20T19:26:40.480584200Z"
    }
   },
   "id": "ecc5bdd73fe0d55a"
  },
  {
   "cell_type": "code",
   "execution_count": 26,
   "outputs": [
    {
     "ename": "ArgumentError",
     "evalue": "subject table for an INSERT, UPDATE or DELETE expected, got 'Clientes'.",
     "output_type": "error",
     "traceback": [
      "\u001B[1;31m---------------------------------------------------------------------------\u001B[0m",
      "\u001B[1;31mArgumentError\u001B[0m                             Traceback (most recent call last)",
      "Cell \u001B[1;32mIn[26], line 1\u001B[0m\n\u001B[1;32m----> 1\u001B[0m delete \u001B[38;5;241m=\u001B[39m \u001B[43mdelete\u001B[49m\u001B[43m(\u001B[49m\u001B[38;5;124;43m'\u001B[39;49m\u001B[38;5;124;43mClientes\u001B[39;49m\u001B[38;5;124;43m'\u001B[39;49m\u001B[43m)\u001B[49m\u001B[38;5;241m.\u001B[39mwhere(clientes\u001B[38;5;241m.\u001B[39mc\u001B[38;5;241m.\u001B[39mID_Cliente \u001B[38;5;241m==\u001B[39m \u001B[38;5;241m5008804\u001B[39m)\n\u001B[0;32m      2\u001B[0m Session \u001B[38;5;241m=\u001B[39m sessionmaker(bind \u001B[38;5;241m=\u001B[39m engine)\n\u001B[0;32m      3\u001B[0m session \u001B[38;5;241m=\u001B[39m Session()\n",
      "File \u001B[1;32m~\\AppData\\Local\\Programs\\Python\\Python311\\Lib\\site-packages\\sqlalchemy\\sql\\_dml_constructors.py:140\u001B[0m, in \u001B[0;36mdelete\u001B[1;34m(table)\u001B[0m\n\u001B[0;32m    116\u001B[0m \u001B[38;5;28;01mdef\u001B[39;00m \u001B[38;5;21mdelete\u001B[39m(table: _DMLTableArgument) \u001B[38;5;241m-\u001B[39m\u001B[38;5;241m>\u001B[39m Delete:\n\u001B[0;32m    117\u001B[0m \u001B[38;5;250m    \u001B[39m\u001B[38;5;124mr\u001B[39m\u001B[38;5;124;03m\"\"\"Construct :class:`_expression.Delete` object.\u001B[39;00m\n\u001B[0;32m    118\u001B[0m \n\u001B[0;32m    119\u001B[0m \u001B[38;5;124;03m    E.g.::\u001B[39;00m\n\u001B[1;32m   (...)\u001B[0m\n\u001B[0;32m    138\u001B[0m \n\u001B[0;32m    139\u001B[0m \u001B[38;5;124;03m    \"\"\"\u001B[39;00m\n\u001B[1;32m--> 140\u001B[0m     \u001B[38;5;28;01mreturn\u001B[39;00m \u001B[43mDelete\u001B[49m\u001B[43m(\u001B[49m\u001B[43mtable\u001B[49m\u001B[43m)\u001B[49m\n",
      "File \u001B[1;32m~\\AppData\\Local\\Programs\\Python\\Python311\\Lib\\site-packages\\sqlalchemy\\sql\\dml.py:1726\u001B[0m, in \u001B[0;36mDelete.__init__\u001B[1;34m(self, table)\u001B[0m\n\u001B[0;32m   1725\u001B[0m \u001B[38;5;28;01mdef\u001B[39;00m \u001B[38;5;21m__init__\u001B[39m(\u001B[38;5;28mself\u001B[39m, table: _DMLTableArgument):\n\u001B[1;32m-> 1726\u001B[0m     \u001B[38;5;28mself\u001B[39m\u001B[38;5;241m.\u001B[39mtable \u001B[38;5;241m=\u001B[39m \u001B[43mcoercions\u001B[49m\u001B[38;5;241;43m.\u001B[39;49m\u001B[43mexpect\u001B[49m\u001B[43m(\u001B[49m\n\u001B[0;32m   1727\u001B[0m \u001B[43m        \u001B[49m\u001B[43mroles\u001B[49m\u001B[38;5;241;43m.\u001B[39;49m\u001B[43mDMLTableRole\u001B[49m\u001B[43m,\u001B[49m\u001B[43m \u001B[49m\u001B[43mtable\u001B[49m\u001B[43m,\u001B[49m\u001B[43m \u001B[49m\u001B[43mapply_propagate_attrs\u001B[49m\u001B[38;5;241;43m=\u001B[39;49m\u001B[38;5;28;43mself\u001B[39;49m\n\u001B[0;32m   1728\u001B[0m \u001B[43m    \u001B[49m\u001B[43m)\u001B[49m\n",
      "File \u001B[1;32m~\\AppData\\Local\\Programs\\Python\\Python311\\Lib\\site-packages\\sqlalchemy\\sql\\coercions.py:413\u001B[0m, in \u001B[0;36mexpect\u001B[1;34m(role, element, apply_propagate_attrs, argname, post_inspect, disable_inspection, **kw)\u001B[0m\n\u001B[0;32m    410\u001B[0m                 impl\u001B[38;5;241m.\u001B[39m_raise_for_expected(original_element, argname)\n\u001B[0;32m    412\u001B[0m     \u001B[38;5;28;01mif\u001B[39;00m resolved \u001B[38;5;129;01mis\u001B[39;00m \u001B[38;5;28;01mNone\u001B[39;00m:\n\u001B[1;32m--> 413\u001B[0m         resolved \u001B[38;5;241m=\u001B[39m \u001B[43mimpl\u001B[49m\u001B[38;5;241;43m.\u001B[39;49m\u001B[43m_literal_coercion\u001B[49m\u001B[43m(\u001B[49m\n\u001B[0;32m    414\u001B[0m \u001B[43m            \u001B[49m\u001B[43melement\u001B[49m\u001B[43m,\u001B[49m\u001B[43m \u001B[49m\u001B[43margname\u001B[49m\u001B[38;5;241;43m=\u001B[39;49m\u001B[43margname\u001B[49m\u001B[43m,\u001B[49m\u001B[43m \u001B[49m\u001B[38;5;241;43m*\u001B[39;49m\u001B[38;5;241;43m*\u001B[39;49m\u001B[43mkw\u001B[49m\n\u001B[0;32m    415\u001B[0m \u001B[43m        \u001B[49m\u001B[43m)\u001B[49m\n\u001B[0;32m    416\u001B[0m \u001B[38;5;28;01melse\u001B[39;00m:\n\u001B[0;32m    417\u001B[0m     resolved \u001B[38;5;241m=\u001B[39m element\n",
      "File \u001B[1;32m~\\AppData\\Local\\Programs\\Python\\Python311\\Lib\\site-packages\\sqlalchemy\\sql\\coercions.py:621\u001B[0m, in \u001B[0;36m_NoTextCoercion._literal_coercion\u001B[1;34m(self, element, argname, **kw)\u001B[0m\n\u001B[0;32m    619\u001B[0m     _no_text_coercion(element, argname)\n\u001B[0;32m    620\u001B[0m \u001B[38;5;28;01melse\u001B[39;00m:\n\u001B[1;32m--> 621\u001B[0m     \u001B[38;5;28;43mself\u001B[39;49m\u001B[38;5;241;43m.\u001B[39;49m\u001B[43m_raise_for_expected\u001B[49m\u001B[43m(\u001B[49m\u001B[43melement\u001B[49m\u001B[43m,\u001B[49m\u001B[43m \u001B[49m\u001B[43margname\u001B[49m\u001B[43m)\u001B[49m\n",
      "File \u001B[1;32m~\\AppData\\Local\\Programs\\Python\\Python311\\Lib\\site-packages\\sqlalchemy\\sql\\coercions.py:710\u001B[0m, in \u001B[0;36m_SelectIsNotFrom._raise_for_expected\u001B[1;34m(self, element, argname, resolved, advice, code, err, **kw)\u001B[0m\n\u001B[0;32m    707\u001B[0m \u001B[38;5;28;01melse\u001B[39;00m:\n\u001B[0;32m    708\u001B[0m     code \u001B[38;5;241m=\u001B[39m \u001B[38;5;28;01mNone\u001B[39;00m\n\u001B[1;32m--> 710\u001B[0m \u001B[38;5;28;43msuper\u001B[39;49m\u001B[43m(\u001B[49m\u001B[43m)\u001B[49m\u001B[38;5;241;43m.\u001B[39;49m\u001B[43m_raise_for_expected\u001B[49m\u001B[43m(\u001B[49m\n\u001B[0;32m    711\u001B[0m \u001B[43m    \u001B[49m\u001B[43melement\u001B[49m\u001B[43m,\u001B[49m\n\u001B[0;32m    712\u001B[0m \u001B[43m    \u001B[49m\u001B[43margname\u001B[49m\u001B[38;5;241;43m=\u001B[39;49m\u001B[43margname\u001B[49m\u001B[43m,\u001B[49m\n\u001B[0;32m    713\u001B[0m \u001B[43m    \u001B[49m\u001B[43mresolved\u001B[49m\u001B[38;5;241;43m=\u001B[39;49m\u001B[43mresolved\u001B[49m\u001B[43m,\u001B[49m\n\u001B[0;32m    714\u001B[0m \u001B[43m    \u001B[49m\u001B[43madvice\u001B[49m\u001B[38;5;241;43m=\u001B[39;49m\u001B[43madvice\u001B[49m\u001B[43m,\u001B[49m\n\u001B[0;32m    715\u001B[0m \u001B[43m    \u001B[49m\u001B[43mcode\u001B[49m\u001B[38;5;241;43m=\u001B[39;49m\u001B[43mcode\u001B[49m\u001B[43m,\u001B[49m\n\u001B[0;32m    716\u001B[0m \u001B[43m    \u001B[49m\u001B[43merr\u001B[49m\u001B[38;5;241;43m=\u001B[39;49m\u001B[43merr\u001B[49m\u001B[43m,\u001B[49m\n\u001B[0;32m    717\u001B[0m \u001B[43m    \u001B[49m\u001B[38;5;241;43m*\u001B[39;49m\u001B[38;5;241;43m*\u001B[39;49m\u001B[43mkw\u001B[49m\u001B[43m,\u001B[49m\n\u001B[0;32m    718\u001B[0m \u001B[43m\u001B[49m\u001B[43m)\u001B[49m\n\u001B[0;32m    719\u001B[0m \u001B[38;5;66;03m# never reached\u001B[39;00m\n\u001B[0;32m    720\u001B[0m \u001B[38;5;28;01massert\u001B[39;00m \u001B[38;5;28;01mFalse\u001B[39;00m\n",
      "File \u001B[1;32m~\\AppData\\Local\\Programs\\Python\\Python311\\Lib\\site-packages\\sqlalchemy\\sql\\coercions.py:535\u001B[0m, in \u001B[0;36mRoleImpl._raise_for_expected\u001B[1;34m(self, element, argname, resolved, advice, code, err, **kw)\u001B[0m\n\u001B[0;32m    532\u001B[0m \u001B[38;5;28;01mif\u001B[39;00m advice:\n\u001B[0;32m    533\u001B[0m     msg \u001B[38;5;241m+\u001B[39m\u001B[38;5;241m=\u001B[39m \u001B[38;5;124m\"\u001B[39m\u001B[38;5;124m \u001B[39m\u001B[38;5;124m\"\u001B[39m \u001B[38;5;241m+\u001B[39m advice\n\u001B[1;32m--> 535\u001B[0m \u001B[38;5;28;01mraise\u001B[39;00m exc\u001B[38;5;241m.\u001B[39mArgumentError(msg, code\u001B[38;5;241m=\u001B[39mcode) \u001B[38;5;28;01mfrom\u001B[39;00m \u001B[38;5;21;01merr\u001B[39;00m\n",
      "\u001B[1;31mArgumentError\u001B[0m: subject table for an INSERT, UPDATE or DELETE expected, got 'Clientes'."
     ]
    }
   ],
   "source": [
    "delete = delete('Clientes').where(clientes.c.ID_Cliente == 5008804)\n",
    "Session = sessionmaker(bind = engine)\n",
    "session = Session()\n",
    "session.execute(delete)\n",
    "session.commit()"
   ],
   "metadata": {
    "collapsed": false,
    "ExecuteTime": {
     "end_time": "2023-12-20T19:26:01.747135200Z",
     "start_time": "2023-12-20T19:26:01.598599600Z"
    }
   },
   "id": "ce03e6c0e8ad7d3b"
  }
 ],
 "metadata": {
  "kernelspec": {
   "display_name": "Python 3",
   "language": "python",
   "name": "python3"
  },
  "language_info": {
   "codemirror_mode": {
    "name": "ipython",
    "version": 2
   },
   "file_extension": ".py",
   "mimetype": "text/x-python",
   "name": "python",
   "nbconvert_exporter": "python",
   "pygments_lexer": "ipython2",
   "version": "2.7.6"
  }
 },
 "nbformat": 4,
 "nbformat_minor": 5
}
