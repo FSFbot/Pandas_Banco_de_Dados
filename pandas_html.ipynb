{
 "cells": [
  {
   "cell_type": "code",
   "execution_count": 1,
   "id": "initial_id",
   "metadata": {
    "collapsed": true,
    "ExecuteTime": {
     "end_time": "2023-12-20T14:25:17.262942800Z",
     "start_time": "2023-12-20T14:25:16.473027700Z"
    }
   },
   "outputs": [],
   "source": [
    "import pandas as pd"
   ]
  },
  {
   "cell_type": "code",
   "execution_count": 3,
   "outputs": [
    {
     "data": {
      "text/plain": "[       0                      1\n 0   1998             100 Movies\n 1   1999              100 Stars\n 2   2000             100 Laughs\n 3   2001            100 Thrills\n 4   2002           100 Passions\n 5   2003  100 Heroes & Villains\n 6   2004              100 Songs\n 7   2005       100 Movie Quotes\n 8   2005              25 Scores\n 9   2006             100 Cheers\n 10  2006            25 Musicals\n 11  2007   100 Movies (Updated)\n 12  2008        AFI's 10 Top 10\n 13   vte                    vte,\n                       Film  Release year              Director  \\\n 0             Citizen Kane          1941          Orson Welles   \n 1               Casablanca          1942        Michael Curtiz   \n 2            The Godfather          1972  Francis Ford Coppola   \n 3       Gone with the Wind          1939        Victor Fleming   \n 4       Lawrence of Arabia          1962            David Lean   \n ..                     ...           ...                   ...   \n 118        Sophie's Choice          1982        Alan J. Pakula   \n 119  The Last Picture Show          1971     Peter Bogdanovich   \n 120     Do the Right Thing          1989             Spike Lee   \n 121           Blade Runner          1982          Ridley Scott   \n 122              Toy Story          1995         John Lasseter   \n \n                               Production companies 1998 Rank 2007 Rank  \n 0                               RKO Radio Pictures         1         1  \n 1                            Warner Bros. Pictures         2         3  \n 2           Paramount Pictures, Alfran Productions         3         2  \n 3                  Selznick International Pictures         4         6  \n 4                                 Horizon Pictures         5         7  \n ..                                             ...       ...       ...  \n 118                              ITC Entertainment         -        91  \n 119                                BBS Productions         -        95  \n 120                  40 Acres and a Mule Filmworks         -        96  \n 121                The Ladd Company, Shaw Brothers         -        97  \n 122  Walt Disney Pictures, Pixar Animation Studios         -        99  \n \n [123 rows x 6 columns],\n               vteAFI's 100 Years...100 Movies (1998)  \\\n 0  Citizen Kane (1941) Casablanca (1942) The Godf...   \n \n             vteAFI's 100 Years...100 Movies (1998).1  \n 0  Citizen Kane (1941) Casablanca (1942) The Godf...  ]"
     },
     "execution_count": 3,
     "metadata": {},
     "output_type": "execute_result"
    }
   ],
   "source": [
    "dados_html = pd.read_html('Movies.html')\n",
    "dados_html"
   ],
   "metadata": {
    "collapsed": false,
    "ExecuteTime": {
     "end_time": "2023-12-20T14:27:22.359322500Z",
     "start_time": "2023-12-20T14:27:22.275788200Z"
    }
   },
   "id": "dd7390cdb9d36a1c"
  },
  {
   "cell_type": "code",
   "execution_count": 4,
   "outputs": [
    {
     "data": {
      "text/plain": "list"
     },
     "execution_count": 4,
     "metadata": {},
     "output_type": "execute_result"
    }
   ],
   "source": [
    "type(dados_html)"
   ],
   "metadata": {
    "collapsed": false,
    "ExecuteTime": {
     "end_time": "2023-12-20T14:27:47.323295500Z",
     "start_time": "2023-12-20T14:27:47.312712Z"
    }
   },
   "id": "9ae9da485024b1dc"
  },
  {
   "cell_type": "code",
   "execution_count": 5,
   "outputs": [
    {
     "data": {
      "text/plain": "3"
     },
     "execution_count": 5,
     "metadata": {},
     "output_type": "execute_result"
    }
   ],
   "source": [
    "len(dados_html)"
   ],
   "metadata": {
    "collapsed": false,
    "ExecuteTime": {
     "end_time": "2023-12-20T14:27:59.625293500Z",
     "start_time": "2023-12-20T14:27:59.614733700Z"
    }
   },
   "id": "54f47d2ef05d4bfd"
  },
  {
   "cell_type": "code",
   "execution_count": 6,
   "outputs": [
    {
     "data": {
      "text/plain": "                      Film  Release year              Director  \\\n0             Citizen Kane          1941          Orson Welles   \n1               Casablanca          1942        Michael Curtiz   \n2            The Godfather          1972  Francis Ford Coppola   \n3       Gone with the Wind          1939        Victor Fleming   \n4       Lawrence of Arabia          1962            David Lean   \n..                     ...           ...                   ...   \n118        Sophie's Choice          1982        Alan J. Pakula   \n119  The Last Picture Show          1971     Peter Bogdanovich   \n120     Do the Right Thing          1989             Spike Lee   \n121           Blade Runner          1982          Ridley Scott   \n122              Toy Story          1995         John Lasseter   \n\n                              Production companies 1998 Rank 2007 Rank  \n0                               RKO Radio Pictures         1         1  \n1                            Warner Bros. Pictures         2         3  \n2           Paramount Pictures, Alfran Productions         3         2  \n3                  Selznick International Pictures         4         6  \n4                                 Horizon Pictures         5         7  \n..                                             ...       ...       ...  \n118                              ITC Entertainment         -        91  \n119                                BBS Productions         -        95  \n120                  40 Acres and a Mule Filmworks         -        96  \n121                The Ladd Company, Shaw Brothers         -        97  \n122  Walt Disney Pictures, Pixar Animation Studios         -        99  \n\n[123 rows x 6 columns]",
      "text/html": "<div>\n<style scoped>\n    .dataframe tbody tr th:only-of-type {\n        vertical-align: middle;\n    }\n\n    .dataframe tbody tr th {\n        vertical-align: top;\n    }\n\n    .dataframe thead th {\n        text-align: right;\n    }\n</style>\n<table border=\"1\" class=\"dataframe\">\n  <thead>\n    <tr style=\"text-align: right;\">\n      <th></th>\n      <th>Film</th>\n      <th>Release year</th>\n      <th>Director</th>\n      <th>Production companies</th>\n      <th>1998 Rank</th>\n      <th>2007 Rank</th>\n    </tr>\n  </thead>\n  <tbody>\n    <tr>\n      <th>0</th>\n      <td>Citizen Kane</td>\n      <td>1941</td>\n      <td>Orson Welles</td>\n      <td>RKO Radio Pictures</td>\n      <td>1</td>\n      <td>1</td>\n    </tr>\n    <tr>\n      <th>1</th>\n      <td>Casablanca</td>\n      <td>1942</td>\n      <td>Michael Curtiz</td>\n      <td>Warner Bros. Pictures</td>\n      <td>2</td>\n      <td>3</td>\n    </tr>\n    <tr>\n      <th>2</th>\n      <td>The Godfather</td>\n      <td>1972</td>\n      <td>Francis Ford Coppola</td>\n      <td>Paramount Pictures, Alfran Productions</td>\n      <td>3</td>\n      <td>2</td>\n    </tr>\n    <tr>\n      <th>3</th>\n      <td>Gone with the Wind</td>\n      <td>1939</td>\n      <td>Victor Fleming</td>\n      <td>Selznick International Pictures</td>\n      <td>4</td>\n      <td>6</td>\n    </tr>\n    <tr>\n      <th>4</th>\n      <td>Lawrence of Arabia</td>\n      <td>1962</td>\n      <td>David Lean</td>\n      <td>Horizon Pictures</td>\n      <td>5</td>\n      <td>7</td>\n    </tr>\n    <tr>\n      <th>...</th>\n      <td>...</td>\n      <td>...</td>\n      <td>...</td>\n      <td>...</td>\n      <td>...</td>\n      <td>...</td>\n    </tr>\n    <tr>\n      <th>118</th>\n      <td>Sophie's Choice</td>\n      <td>1982</td>\n      <td>Alan J. Pakula</td>\n      <td>ITC Entertainment</td>\n      <td>-</td>\n      <td>91</td>\n    </tr>\n    <tr>\n      <th>119</th>\n      <td>The Last Picture Show</td>\n      <td>1971</td>\n      <td>Peter Bogdanovich</td>\n      <td>BBS Productions</td>\n      <td>-</td>\n      <td>95</td>\n    </tr>\n    <tr>\n      <th>120</th>\n      <td>Do the Right Thing</td>\n      <td>1989</td>\n      <td>Spike Lee</td>\n      <td>40 Acres and a Mule Filmworks</td>\n      <td>-</td>\n      <td>96</td>\n    </tr>\n    <tr>\n      <th>121</th>\n      <td>Blade Runner</td>\n      <td>1982</td>\n      <td>Ridley Scott</td>\n      <td>The Ladd Company, Shaw Brothers</td>\n      <td>-</td>\n      <td>97</td>\n    </tr>\n    <tr>\n      <th>122</th>\n      <td>Toy Story</td>\n      <td>1995</td>\n      <td>John Lasseter</td>\n      <td>Walt Disney Pictures, Pixar Animation Studios</td>\n      <td>-</td>\n      <td>99</td>\n    </tr>\n  </tbody>\n</table>\n<p>123 rows × 6 columns</p>\n</div>"
     },
     "execution_count": 6,
     "metadata": {},
     "output_type": "execute_result"
    }
   ],
   "source": [
    "top_fimes = dados_html[1]\n",
    "top_fimes"
   ],
   "metadata": {
    "collapsed": false,
    "ExecuteTime": {
     "end_time": "2023-12-20T14:28:37.263198900Z",
     "start_time": "2023-12-20T14:28:37.240383900Z"
    }
   },
   "id": "2c013b0cfa2b5288"
  },
  {
   "cell_type": "code",
   "execution_count": 8,
   "outputs": [],
   "source": [
    "\"\"\"\n",
    "Agora vamos incorporar em html os nossos resultados\n",
    "\"\"\"\n",
    "\n",
    "top_fimes.to_html('top_filmes.html', index= False)\n"
   ],
   "metadata": {
    "collapsed": false,
    "ExecuteTime": {
     "end_time": "2023-12-20T14:35:56.519844200Z",
     "start_time": "2023-12-20T14:35:56.481896800Z"
    }
   },
   "id": "529636fe7e53b0ea"
  },
  {
   "cell_type": "code",
   "execution_count": 9,
   "outputs": [],
   "source": [
    "movie_columns = ['Film', 'Release Year', 'Director','Production Companies', 'Rank 1998','Rank 2007']"
   ],
   "metadata": {
    "collapsed": false,
    "ExecuteTime": {
     "end_time": "2023-12-20T14:38:20.054016600Z",
     "start_time": "2023-12-20T14:38:20.047032900Z"
    }
   },
   "id": "39b9d2a19487615c"
  },
  {
   "cell_type": "code",
   "execution_count": 11,
   "outputs": [],
   "source": [
    "styled_movies = top_fimes.style.set_table_styles(\n",
    "    [{'selector': 'th',\n",
    "      'props':[('font-size', '12pt'),\n",
    "               ('text-align', 'center'),\n",
    "               ('background-color','#f4f4f4'),\n",
    "               ('color', '#333333')]},\n",
    "     {'selector' : 'td',\n",
    "      'props': [('text_align', 'center')]}]\n",
    ").set_properties(**{'border': '1.5px solid black', 'padding': '4px'})\n",
    "\n"
   ],
   "metadata": {
    "collapsed": false,
    "ExecuteTime": {
     "end_time": "2023-12-20T14:48:28.496969Z",
     "start_time": "2023-12-20T14:48:28.489566200Z"
    }
   },
   "id": "633be0a8f0b151fd"
  },
  {
   "cell_type": "markdown",
   "source": [],
   "metadata": {
    "collapsed": false
   },
   "id": "17c2af411260d4e3"
  },
  {
   "cell_type": "code",
   "execution_count": 12,
   "outputs": [],
   "source": [
    "styled_movies.to_html('Nova_tabela.html', index = False)"
   ],
   "metadata": {
    "collapsed": false,
    "ExecuteTime": {
     "end_time": "2023-12-20T14:49:51.600754800Z",
     "start_time": "2023-12-20T14:49:51.569655300Z"
    }
   },
   "id": "21375b74da84a9f4"
  },
  {
   "cell_type": "code",
   "execution_count": 13,
   "outputs": [],
   "source": [
    "top_fimes.to_csv('top_filmes_1998.csv',index=False)"
   ],
   "metadata": {
    "collapsed": false,
    "ExecuteTime": {
     "end_time": "2023-12-20T14:52:07.735571800Z",
     "start_time": "2023-12-20T14:52:07.717745100Z"
    }
   },
   "id": "57432b2b9c10b4f6"
  },
  {
   "cell_type": "code",
   "execution_count": 14,
   "outputs": [
    {
     "data": {
      "text/plain": "   index                                        Poster_Link  \\\n0      0  https://m.media-amazon.com/images/M/MV5BMDFkYT...   \n1      1  https://m.media-amazon.com/images/M/MV5BM2MyNj...   \n2      2  https://m.media-amazon.com/images/M/MV5BMTMxNT...   \n3      3  https://m.media-amazon.com/images/M/MV5BMWMwMG...   \n4      4  https://m.media-amazon.com/images/M/MV5BMWU4N2...   \n\n               Series_Title Released_Year Certificate  Runtime  \\\n0  The Shawshank Redemption          1994           A  142 min   \n1             The Godfather          1972           A  175 min   \n2           The Dark Knight          2008          UA  152 min   \n3    The Godfather: Part II          1974           A  202 min   \n4              12 Angry Men          1957           U   96 min   \n\n                  Genre  IMDB_Rating  \\\n0                 Drama          9.3   \n1          Crime, Drama          9.2   \n2  Action, Crime, Drama          9.0   \n3          Crime, Drama          9.0   \n4          Crime, Drama          9.0   \n\n                                            Overview  Meta_score  \\\n0  Two imprisoned men bond over a number of years...        80.0   \n1  An organized crime dynasty's aging patriarch t...       100.0   \n2  When the menace known as the Joker wreaks havo...        84.0   \n3  The early life and career of Vito Corleone in ...        90.0   \n4  A jury holdout attempts to prevent a miscarria...        96.0   \n\n               Director           Star1           Star2          Star3  \\\n0        Frank Darabont     Tim Robbins  Morgan Freeman     Bob Gunton   \n1  Francis Ford Coppola   Marlon Brando       Al Pacino     James Caan   \n2     Christopher Nolan  Christian Bale    Heath Ledger  Aaron Eckhart   \n3  Francis Ford Coppola       Al Pacino  Robert De Niro  Robert Duvall   \n4          Sidney Lumet     Henry Fonda     Lee J. Cobb  Martin Balsam   \n\n            Star4  No_of_Votes        Gross  \n0  William Sadler      2343110   28,341,469  \n1    Diane Keaton      1620367  134,966,411  \n2   Michael Caine      2303232  534,858,444  \n3    Diane Keaton      1129952   57,300,000  \n4    John Fiedler       689845    4,360,000  ",
      "text/html": "<div>\n<style scoped>\n    .dataframe tbody tr th:only-of-type {\n        vertical-align: middle;\n    }\n\n    .dataframe tbody tr th {\n        vertical-align: top;\n    }\n\n    .dataframe thead th {\n        text-align: right;\n    }\n</style>\n<table border=\"1\" class=\"dataframe\">\n  <thead>\n    <tr style=\"text-align: right;\">\n      <th></th>\n      <th>index</th>\n      <th>Poster_Link</th>\n      <th>Series_Title</th>\n      <th>Released_Year</th>\n      <th>Certificate</th>\n      <th>Runtime</th>\n      <th>Genre</th>\n      <th>IMDB_Rating</th>\n      <th>Overview</th>\n      <th>Meta_score</th>\n      <th>Director</th>\n      <th>Star1</th>\n      <th>Star2</th>\n      <th>Star3</th>\n      <th>Star4</th>\n      <th>No_of_Votes</th>\n      <th>Gross</th>\n    </tr>\n  </thead>\n  <tbody>\n    <tr>\n      <th>0</th>\n      <td>0</td>\n      <td>https://m.media-amazon.com/images/M/MV5BMDFkYT...</td>\n      <td>The Shawshank Redemption</td>\n      <td>1994</td>\n      <td>A</td>\n      <td>142 min</td>\n      <td>Drama</td>\n      <td>9.3</td>\n      <td>Two imprisoned men bond over a number of years...</td>\n      <td>80.0</td>\n      <td>Frank Darabont</td>\n      <td>Tim Robbins</td>\n      <td>Morgan Freeman</td>\n      <td>Bob Gunton</td>\n      <td>William Sadler</td>\n      <td>2343110</td>\n      <td>28,341,469</td>\n    </tr>\n    <tr>\n      <th>1</th>\n      <td>1</td>\n      <td>https://m.media-amazon.com/images/M/MV5BM2MyNj...</td>\n      <td>The Godfather</td>\n      <td>1972</td>\n      <td>A</td>\n      <td>175 min</td>\n      <td>Crime, Drama</td>\n      <td>9.2</td>\n      <td>An organized crime dynasty's aging patriarch t...</td>\n      <td>100.0</td>\n      <td>Francis Ford Coppola</td>\n      <td>Marlon Brando</td>\n      <td>Al Pacino</td>\n      <td>James Caan</td>\n      <td>Diane Keaton</td>\n      <td>1620367</td>\n      <td>134,966,411</td>\n    </tr>\n    <tr>\n      <th>2</th>\n      <td>2</td>\n      <td>https://m.media-amazon.com/images/M/MV5BMTMxNT...</td>\n      <td>The Dark Knight</td>\n      <td>2008</td>\n      <td>UA</td>\n      <td>152 min</td>\n      <td>Action, Crime, Drama</td>\n      <td>9.0</td>\n      <td>When the menace known as the Joker wreaks havo...</td>\n      <td>84.0</td>\n      <td>Christopher Nolan</td>\n      <td>Christian Bale</td>\n      <td>Heath Ledger</td>\n      <td>Aaron Eckhart</td>\n      <td>Michael Caine</td>\n      <td>2303232</td>\n      <td>534,858,444</td>\n    </tr>\n    <tr>\n      <th>3</th>\n      <td>3</td>\n      <td>https://m.media-amazon.com/images/M/MV5BMWMwMG...</td>\n      <td>The Godfather: Part II</td>\n      <td>1974</td>\n      <td>A</td>\n      <td>202 min</td>\n      <td>Crime, Drama</td>\n      <td>9.0</td>\n      <td>The early life and career of Vito Corleone in ...</td>\n      <td>90.0</td>\n      <td>Francis Ford Coppola</td>\n      <td>Al Pacino</td>\n      <td>Robert De Niro</td>\n      <td>Robert Duvall</td>\n      <td>Diane Keaton</td>\n      <td>1129952</td>\n      <td>57,300,000</td>\n    </tr>\n    <tr>\n      <th>4</th>\n      <td>4</td>\n      <td>https://m.media-amazon.com/images/M/MV5BMWU4N2...</td>\n      <td>12 Angry Men</td>\n      <td>1957</td>\n      <td>U</td>\n      <td>96 min</td>\n      <td>Crime, Drama</td>\n      <td>9.0</td>\n      <td>A jury holdout attempts to prevent a miscarria...</td>\n      <td>96.0</td>\n      <td>Sidney Lumet</td>\n      <td>Henry Fonda</td>\n      <td>Lee J. Cobb</td>\n      <td>Martin Balsam</td>\n      <td>John Fiedler</td>\n      <td>689845</td>\n      <td>4,360,000</td>\n    </tr>\n  </tbody>\n</table>\n</div>"
     },
     "execution_count": 14,
     "metadata": {},
     "output_type": "execute_result"
    }
   ],
   "source": [
    "filmes_data = 'https://raw.githubusercontent.com/alura-cursos/Pandas/main/imdb_top_1000.xml'\n",
    "dados_imdb = pd.read_xml(filmes_data)\n",
    "dados_imdb.head()"
   ],
   "metadata": {
    "collapsed": false,
    "ExecuteTime": {
     "end_time": "2023-12-20T14:55:40.475561100Z",
     "start_time": "2023-12-20T14:55:39.703446400Z"
    }
   },
   "id": "de552d9ab888db3b"
  },
  {
   "cell_type": "code",
   "execution_count": 16,
   "outputs": [],
   "source": [
    "dados_imdb.to_xml('filmes_imdb.xml')"
   ],
   "metadata": {
    "collapsed": false,
    "ExecuteTime": {
     "end_time": "2023-12-20T14:57:44.618206400Z",
     "start_time": "2023-12-20T14:57:44.527931Z"
    }
   },
   "id": "b4c0f5760bf4e971"
  }
 ],
 "metadata": {
  "kernelspec": {
   "display_name": "Python 3",
   "language": "python",
   "name": "python3"
  },
  "language_info": {
   "codemirror_mode": {
    "name": "ipython",
    "version": 2
   },
   "file_extension": ".py",
   "mimetype": "text/x-python",
   "name": "python",
   "nbconvert_exporter": "python",
   "pygments_lexer": "ipython2",
   "version": "2.7.6"
  }
 },
 "nbformat": 4,
 "nbformat_minor": 5
}
