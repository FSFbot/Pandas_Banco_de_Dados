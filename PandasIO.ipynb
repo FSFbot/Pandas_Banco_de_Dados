{
 "cells": [
  {
   "cell_type": "code",
   "execution_count": 1,
   "id": "initial_id",
   "metadata": {
    "collapsed": true,
    "ExecuteTime": {
     "end_time": "2023-12-20T12:28:55.294256400Z",
     "start_time": "2023-12-20T12:28:54.187367500Z"
    }
   },
   "outputs": [],
   "source": [
    "import pandas as pd\n"
   ]
  },
  {
   "cell_type": "code",
   "execution_count": 9,
   "outputs": [
    {
     "data": {
      "text/plain": "      Id  Year_Birth   Education Marital_Status   Income  Kidhome  Teenhome  \\\n0   1826        1970  Graduation       Divorced  84835.0        0         0   \n1      1        1961  Graduation         Single  57091.0        0         0   \n2  10476        1958  Graduation        Married  67267.0        0         1   \n3   1386        1967  Graduation       Together  32474.0        1         1   \n4   5371        1989  Graduation         Single  21474.0        1         0   \n\n  Dt_Customer  Recency  MntWines  ...  MntFishProducts  MntSweetProducts  \\\n0   6/16/2014        0       189  ...              111               189   \n1   6/15/2014        0       464  ...                7                 0   \n2   5/13/2014        0       134  ...               15                 2   \n3   11/5/2014        0        10  ...                0                 0   \n4    8/4/2014        0         6  ...               11                 0   \n\n   MntGoldProds  NumDealsPurchases  NumWebPurchases  NumCatalogPurchases  \\\n0           218                  1                4                    4   \n1            37                  1                7                    3   \n2            30                  1                3                    2   \n3             0                  1                1                    0   \n4            34                  2                3                    1   \n\n   NumStorePurchases  NumWebVisitsMonth  Response  Complain  \n0                  6                  1         1         0  \n1                  7                  5         1         0  \n2                  5                  2         0         0  \n3                  2                  7         0         0  \n4                  2                  7         1         0  \n\n[5 rows x 22 columns]",
      "text/html": "<div>\n<style scoped>\n    .dataframe tbody tr th:only-of-type {\n        vertical-align: middle;\n    }\n\n    .dataframe tbody tr th {\n        vertical-align: top;\n    }\n\n    .dataframe thead th {\n        text-align: right;\n    }\n</style>\n<table border=\"1\" class=\"dataframe\">\n  <thead>\n    <tr style=\"text-align: right;\">\n      <th></th>\n      <th>Id</th>\n      <th>Year_Birth</th>\n      <th>Education</th>\n      <th>Marital_Status</th>\n      <th>Income</th>\n      <th>Kidhome</th>\n      <th>Teenhome</th>\n      <th>Dt_Customer</th>\n      <th>Recency</th>\n      <th>MntWines</th>\n      <th>...</th>\n      <th>MntFishProducts</th>\n      <th>MntSweetProducts</th>\n      <th>MntGoldProds</th>\n      <th>NumDealsPurchases</th>\n      <th>NumWebPurchases</th>\n      <th>NumCatalogPurchases</th>\n      <th>NumStorePurchases</th>\n      <th>NumWebVisitsMonth</th>\n      <th>Response</th>\n      <th>Complain</th>\n    </tr>\n  </thead>\n  <tbody>\n    <tr>\n      <th>0</th>\n      <td>1826</td>\n      <td>1970</td>\n      <td>Graduation</td>\n      <td>Divorced</td>\n      <td>84835.0</td>\n      <td>0</td>\n      <td>0</td>\n      <td>6/16/2014</td>\n      <td>0</td>\n      <td>189</td>\n      <td>...</td>\n      <td>111</td>\n      <td>189</td>\n      <td>218</td>\n      <td>1</td>\n      <td>4</td>\n      <td>4</td>\n      <td>6</td>\n      <td>1</td>\n      <td>1</td>\n      <td>0</td>\n    </tr>\n    <tr>\n      <th>1</th>\n      <td>1</td>\n      <td>1961</td>\n      <td>Graduation</td>\n      <td>Single</td>\n      <td>57091.0</td>\n      <td>0</td>\n      <td>0</td>\n      <td>6/15/2014</td>\n      <td>0</td>\n      <td>464</td>\n      <td>...</td>\n      <td>7</td>\n      <td>0</td>\n      <td>37</td>\n      <td>1</td>\n      <td>7</td>\n      <td>3</td>\n      <td>7</td>\n      <td>5</td>\n      <td>1</td>\n      <td>0</td>\n    </tr>\n    <tr>\n      <th>2</th>\n      <td>10476</td>\n      <td>1958</td>\n      <td>Graduation</td>\n      <td>Married</td>\n      <td>67267.0</td>\n      <td>0</td>\n      <td>1</td>\n      <td>5/13/2014</td>\n      <td>0</td>\n      <td>134</td>\n      <td>...</td>\n      <td>15</td>\n      <td>2</td>\n      <td>30</td>\n      <td>1</td>\n      <td>3</td>\n      <td>2</td>\n      <td>5</td>\n      <td>2</td>\n      <td>0</td>\n      <td>0</td>\n    </tr>\n    <tr>\n      <th>3</th>\n      <td>1386</td>\n      <td>1967</td>\n      <td>Graduation</td>\n      <td>Together</td>\n      <td>32474.0</td>\n      <td>1</td>\n      <td>1</td>\n      <td>11/5/2014</td>\n      <td>0</td>\n      <td>10</td>\n      <td>...</td>\n      <td>0</td>\n      <td>0</td>\n      <td>0</td>\n      <td>1</td>\n      <td>1</td>\n      <td>0</td>\n      <td>2</td>\n      <td>7</td>\n      <td>0</td>\n      <td>0</td>\n    </tr>\n    <tr>\n      <th>4</th>\n      <td>5371</td>\n      <td>1989</td>\n      <td>Graduation</td>\n      <td>Single</td>\n      <td>21474.0</td>\n      <td>1</td>\n      <td>0</td>\n      <td>8/4/2014</td>\n      <td>0</td>\n      <td>6</td>\n      <td>...</td>\n      <td>11</td>\n      <td>0</td>\n      <td>34</td>\n      <td>2</td>\n      <td>3</td>\n      <td>1</td>\n      <td>2</td>\n      <td>7</td>\n      <td>1</td>\n      <td>0</td>\n    </tr>\n  </tbody>\n</table>\n<p>5 rows × 22 columns</p>\n</div>"
     },
     "execution_count": 9,
     "metadata": {},
     "output_type": "execute_result"
    }
   ],
   "source": [
    "url = 'https://raw.githubusercontent.com/alura-cursos/pandas/main/superstore_data.csv'\n",
    "data = pd.read_csv(url,sep= ',')\n",
    "data.head()"
   ],
   "metadata": {
    "collapsed": false,
    "ExecuteTime": {
     "end_time": "2023-12-20T12:35:36.892254300Z",
     "start_time": "2023-12-20T12:35:36.739197300Z"
    }
   },
   "id": "ade9ec3762d63cf5"
  },
  {
   "cell_type": "code",
   "execution_count": 15,
   "outputs": [
    {
     "data": {
      "text/plain": "         Id  Year_Birth   Income\n0      1826        1970  84835.0\n1         1        1961  57091.0\n2     10476        1958  67267.0\n3      1386        1967  32474.0\n4      5371        1989  21474.0\n...     ...         ...      ...\n2235  10142        1976  66476.0\n2236   5263        1977  31056.0\n2237     22        1976  46310.0\n2238    528        1978  65819.0\n2239   4070        1969  94871.0\n\n[2240 rows x 3 columns]",
      "text/html": "<div>\n<style scoped>\n    .dataframe tbody tr th:only-of-type {\n        vertical-align: middle;\n    }\n\n    .dataframe tbody tr th {\n        vertical-align: top;\n    }\n\n    .dataframe thead th {\n        text-align: right;\n    }\n</style>\n<table border=\"1\" class=\"dataframe\">\n  <thead>\n    <tr style=\"text-align: right;\">\n      <th></th>\n      <th>Id</th>\n      <th>Year_Birth</th>\n      <th>Income</th>\n    </tr>\n  </thead>\n  <tbody>\n    <tr>\n      <th>0</th>\n      <td>1826</td>\n      <td>1970</td>\n      <td>84835.0</td>\n    </tr>\n    <tr>\n      <th>1</th>\n      <td>1</td>\n      <td>1961</td>\n      <td>57091.0</td>\n    </tr>\n    <tr>\n      <th>2</th>\n      <td>10476</td>\n      <td>1958</td>\n      <td>67267.0</td>\n    </tr>\n    <tr>\n      <th>3</th>\n      <td>1386</td>\n      <td>1967</td>\n      <td>32474.0</td>\n    </tr>\n    <tr>\n      <th>4</th>\n      <td>5371</td>\n      <td>1989</td>\n      <td>21474.0</td>\n    </tr>\n    <tr>\n      <th>...</th>\n      <td>...</td>\n      <td>...</td>\n      <td>...</td>\n    </tr>\n    <tr>\n      <th>2235</th>\n      <td>10142</td>\n      <td>1976</td>\n      <td>66476.0</td>\n    </tr>\n    <tr>\n      <th>2236</th>\n      <td>5263</td>\n      <td>1977</td>\n      <td>31056.0</td>\n    </tr>\n    <tr>\n      <th>2237</th>\n      <td>22</td>\n      <td>1976</td>\n      <td>46310.0</td>\n    </tr>\n    <tr>\n      <th>2238</th>\n      <td>528</td>\n      <td>1978</td>\n      <td>65819.0</td>\n    </tr>\n    <tr>\n      <th>2239</th>\n      <td>4070</td>\n      <td>1969</td>\n      <td>94871.0</td>\n    </tr>\n  </tbody>\n</table>\n<p>2240 rows × 3 columns</p>\n</div>"
     },
     "execution_count": 15,
     "metadata": {},
     "output_type": "execute_result"
    }
   ],
   "source": [
    "\"\"\"\n",
    "Aqui temos um exemplo de como podemos chamar apenas as colunas necessarias para o nosso projeto\n",
    "\"\"\"\n",
    "dados_selecao = pd.read_csv(url, usecols=['Id', 'Year_Birth','Income'])\n",
    "dados_selecao"
   ],
   "metadata": {
    "collapsed": false,
    "ExecuteTime": {
     "end_time": "2023-12-20T12:46:27.437810Z",
     "start_time": "2023-12-20T12:46:27.239976500Z"
    }
   },
   "id": "42717e23f3fa3b7c"
  },
  {
   "cell_type": "code",
   "execution_count": 17,
   "outputs": [],
   "source": [
    "# Maneira como podemos salve um conjunto de informações em um unico arquivo\n",
    "# Index False => serve para que não ocorra duplicação do campo id\n",
    "dados_selecao.to_csv('Clientes_Mercado.csv', index= False)"
   ],
   "metadata": {
    "collapsed": false,
    "ExecuteTime": {
     "end_time": "2023-12-20T12:49:52.669669600Z",
     "start_time": "2023-12-20T12:49:52.616134200Z"
    }
   },
   "id": "58583067b06e10ea"
  },
  {
   "cell_type": "code",
   "execution_count": 19,
   "outputs": [
    {
     "data": {
      "text/plain": "              País ISO 3166-1 alpha-3   Ano         Total        Carvão  \\\n0      Afeganistão                AFG  1750  0.000000e+00           NaN   \n1      Afeganistão                AFG  1751  0.000000e+00           NaN   \n2      Afeganistão                AFG  1752  0.000000e+00           NaN   \n3      Afeganistão                AFG  1753  0.000000e+00           NaN   \n4      Afeganistão                AFG  1754  0.000000e+00           NaN   \n...            ...                ...   ...           ...           ...   \n63099       Global                WLD  2017  3.609674e+10  1.450697e+10   \n63100       Global                WLD  2018  3.682651e+10  1.474683e+10   \n63101       Global                WLD  2019  3.708256e+10  1.472598e+10   \n63102       Global                WLD  2020  3.526409e+10  1.417456e+10   \n63103       Global                WLD  2021  3.712385e+10  1.497960e+10   \n\n               Oléo           Gás       Cimento       Queima        Outro  \\\n0               NaN           NaN           NaN          NaN          NaN   \n1               NaN           NaN           NaN          NaN          NaN   \n2               NaN           NaN           NaN          NaN          NaN   \n3               NaN           NaN           NaN          NaN          NaN   \n4               NaN           NaN           NaN          NaN          NaN   \n...             ...           ...           ...          ...          ...   \n63099  1.224263e+10  7.144928e+09  1.507923e+09  391992176.0  302294047.0   \n63100  1.226602e+10  7.529847e+09  1.569218e+09  412115746.0  302478706.0   \n63101  1.234565e+10  7.647528e+09  1.617507e+09  439253991.0  306638573.0   \n63102  1.119181e+10  7.556290e+09  1.637538e+09  407583673.0  296301685.0   \n63103  1.183716e+10  7.921829e+09  1.672592e+09  416525563.0  296145746.0   \n\n       Per Capita  \n0             NaN  \n1             NaN  \n2             NaN  \n3             NaN  \n4             NaN  \n...           ...  \n63099   4749682.0  \n63100   4792753.0  \n63101   4775633.0  \n63102   4497423.0  \n63103   4693699.0  \n\n[63104 rows x 11 columns]",
      "text/html": "<div>\n<style scoped>\n    .dataframe tbody tr th:only-of-type {\n        vertical-align: middle;\n    }\n\n    .dataframe tbody tr th {\n        vertical-align: top;\n    }\n\n    .dataframe thead th {\n        text-align: right;\n    }\n</style>\n<table border=\"1\" class=\"dataframe\">\n  <thead>\n    <tr style=\"text-align: right;\">\n      <th></th>\n      <th>País</th>\n      <th>ISO 3166-1 alpha-3</th>\n      <th>Ano</th>\n      <th>Total</th>\n      <th>Carvão</th>\n      <th>Oléo</th>\n      <th>Gás</th>\n      <th>Cimento</th>\n      <th>Queima</th>\n      <th>Outro</th>\n      <th>Per Capita</th>\n    </tr>\n  </thead>\n  <tbody>\n    <tr>\n      <th>0</th>\n      <td>Afeganistão</td>\n      <td>AFG</td>\n      <td>1750</td>\n      <td>0.000000e+00</td>\n      <td>NaN</td>\n      <td>NaN</td>\n      <td>NaN</td>\n      <td>NaN</td>\n      <td>NaN</td>\n      <td>NaN</td>\n      <td>NaN</td>\n    </tr>\n    <tr>\n      <th>1</th>\n      <td>Afeganistão</td>\n      <td>AFG</td>\n      <td>1751</td>\n      <td>0.000000e+00</td>\n      <td>NaN</td>\n      <td>NaN</td>\n      <td>NaN</td>\n      <td>NaN</td>\n      <td>NaN</td>\n      <td>NaN</td>\n      <td>NaN</td>\n    </tr>\n    <tr>\n      <th>2</th>\n      <td>Afeganistão</td>\n      <td>AFG</td>\n      <td>1752</td>\n      <td>0.000000e+00</td>\n      <td>NaN</td>\n      <td>NaN</td>\n      <td>NaN</td>\n      <td>NaN</td>\n      <td>NaN</td>\n      <td>NaN</td>\n      <td>NaN</td>\n    </tr>\n    <tr>\n      <th>3</th>\n      <td>Afeganistão</td>\n      <td>AFG</td>\n      <td>1753</td>\n      <td>0.000000e+00</td>\n      <td>NaN</td>\n      <td>NaN</td>\n      <td>NaN</td>\n      <td>NaN</td>\n      <td>NaN</td>\n      <td>NaN</td>\n      <td>NaN</td>\n    </tr>\n    <tr>\n      <th>4</th>\n      <td>Afeganistão</td>\n      <td>AFG</td>\n      <td>1754</td>\n      <td>0.000000e+00</td>\n      <td>NaN</td>\n      <td>NaN</td>\n      <td>NaN</td>\n      <td>NaN</td>\n      <td>NaN</td>\n      <td>NaN</td>\n      <td>NaN</td>\n    </tr>\n    <tr>\n      <th>...</th>\n      <td>...</td>\n      <td>...</td>\n      <td>...</td>\n      <td>...</td>\n      <td>...</td>\n      <td>...</td>\n      <td>...</td>\n      <td>...</td>\n      <td>...</td>\n      <td>...</td>\n      <td>...</td>\n    </tr>\n    <tr>\n      <th>63099</th>\n      <td>Global</td>\n      <td>WLD</td>\n      <td>2017</td>\n      <td>3.609674e+10</td>\n      <td>1.450697e+10</td>\n      <td>1.224263e+10</td>\n      <td>7.144928e+09</td>\n      <td>1.507923e+09</td>\n      <td>391992176.0</td>\n      <td>302294047.0</td>\n      <td>4749682.0</td>\n    </tr>\n    <tr>\n      <th>63100</th>\n      <td>Global</td>\n      <td>WLD</td>\n      <td>2018</td>\n      <td>3.682651e+10</td>\n      <td>1.474683e+10</td>\n      <td>1.226602e+10</td>\n      <td>7.529847e+09</td>\n      <td>1.569218e+09</td>\n      <td>412115746.0</td>\n      <td>302478706.0</td>\n      <td>4792753.0</td>\n    </tr>\n    <tr>\n      <th>63101</th>\n      <td>Global</td>\n      <td>WLD</td>\n      <td>2019</td>\n      <td>3.708256e+10</td>\n      <td>1.472598e+10</td>\n      <td>1.234565e+10</td>\n      <td>7.647528e+09</td>\n      <td>1.617507e+09</td>\n      <td>439253991.0</td>\n      <td>306638573.0</td>\n      <td>4775633.0</td>\n    </tr>\n    <tr>\n      <th>63102</th>\n      <td>Global</td>\n      <td>WLD</td>\n      <td>2020</td>\n      <td>3.526409e+10</td>\n      <td>1.417456e+10</td>\n      <td>1.119181e+10</td>\n      <td>7.556290e+09</td>\n      <td>1.637538e+09</td>\n      <td>407583673.0</td>\n      <td>296301685.0</td>\n      <td>4497423.0</td>\n    </tr>\n    <tr>\n      <th>63103</th>\n      <td>Global</td>\n      <td>WLD</td>\n      <td>2021</td>\n      <td>3.712385e+10</td>\n      <td>1.497960e+10</td>\n      <td>1.183716e+10</td>\n      <td>7.921829e+09</td>\n      <td>1.672592e+09</td>\n      <td>416525563.0</td>\n      <td>296145746.0</td>\n      <td>4693699.0</td>\n    </tr>\n  </tbody>\n</table>\n<p>63104 rows × 11 columns</p>\n</div>"
     },
     "execution_count": 19,
     "metadata": {},
     "output_type": "execute_result"
    }
   ],
   "source": [
    "\"\"\"\n",
    "Agora nesta fase vamos analisar usando um arquivo de planilha\n",
    "\"\"\"\n",
    "url = 'https://github.com/alura-cursos/Pandas/blob/main/emissoes_CO2.xlsx?raw=True'\n",
    "df_co2 = pd.read_excel(url)\n",
    "df_co2"
   ],
   "metadata": {
    "collapsed": false,
    "ExecuteTime": {
     "end_time": "2023-12-20T13:09:01.708829800Z",
     "start_time": "2023-12-20T13:08:47.618335300Z"
    }
   },
   "id": "8d3923f1486243c2"
  },
  {
   "cell_type": "code",
   "execution_count": 20,
   "outputs": [
    {
     "data": {
      "text/plain": "['emissoes_C02', 'emissoes_percapita', 'fontes']"
     },
     "execution_count": 20,
     "metadata": {},
     "output_type": "execute_result"
    }
   ],
   "source": [
    "\"\"\"\n",
    "Como descobrir se a planilha tem mais informações dentro dela\n",
    "\"\"\"\n",
    "pd.ExcelFile(url).sheet_names"
   ],
   "metadata": {
    "collapsed": false,
    "ExecuteTime": {
     "end_time": "2023-12-20T13:10:51.949237700Z",
     "start_time": "2023-12-20T13:10:39.107599Z"
    }
   },
   "id": "a37c736a2ee2a60f"
  },
  {
   "cell_type": "code",
   "execution_count": 23,
   "outputs": [
    {
     "data": {
      "text/plain": "          País ISO 3166-1 alpha-3   Ano  Total  Carvão  Óleo  Gás  Cimento  \\\n0  Afeganistão                AFG  1750    NaN     NaN   NaN  NaN      NaN   \n1  Afeganistão                AFG  1751    NaN     NaN   NaN  NaN      NaN   \n2  Afeganistão                AFG  1752    NaN     NaN   NaN  NaN      NaN   \n3  Afeganistão                AFG  1753    NaN     NaN   NaN  NaN      NaN   \n4  Afeganistão                AFG  1754    NaN     NaN   NaN  NaN      NaN   \n\n   Queima  Outro  \n0     NaN    NaN  \n1     NaN    NaN  \n2     NaN    NaN  \n3     NaN    NaN  \n4     NaN    NaN  ",
      "text/html": "<div>\n<style scoped>\n    .dataframe tbody tr th:only-of-type {\n        vertical-align: middle;\n    }\n\n    .dataframe tbody tr th {\n        vertical-align: top;\n    }\n\n    .dataframe thead th {\n        text-align: right;\n    }\n</style>\n<table border=\"1\" class=\"dataframe\">\n  <thead>\n    <tr style=\"text-align: right;\">\n      <th></th>\n      <th>País</th>\n      <th>ISO 3166-1 alpha-3</th>\n      <th>Ano</th>\n      <th>Total</th>\n      <th>Carvão</th>\n      <th>Óleo</th>\n      <th>Gás</th>\n      <th>Cimento</th>\n      <th>Queima</th>\n      <th>Outro</th>\n    </tr>\n  </thead>\n  <tbody>\n    <tr>\n      <th>0</th>\n      <td>Afeganistão</td>\n      <td>AFG</td>\n      <td>1750</td>\n      <td>NaN</td>\n      <td>NaN</td>\n      <td>NaN</td>\n      <td>NaN</td>\n      <td>NaN</td>\n      <td>NaN</td>\n      <td>NaN</td>\n    </tr>\n    <tr>\n      <th>1</th>\n      <td>Afeganistão</td>\n      <td>AFG</td>\n      <td>1751</td>\n      <td>NaN</td>\n      <td>NaN</td>\n      <td>NaN</td>\n      <td>NaN</td>\n      <td>NaN</td>\n      <td>NaN</td>\n      <td>NaN</td>\n    </tr>\n    <tr>\n      <th>2</th>\n      <td>Afeganistão</td>\n      <td>AFG</td>\n      <td>1752</td>\n      <td>NaN</td>\n      <td>NaN</td>\n      <td>NaN</td>\n      <td>NaN</td>\n      <td>NaN</td>\n      <td>NaN</td>\n      <td>NaN</td>\n    </tr>\n    <tr>\n      <th>3</th>\n      <td>Afeganistão</td>\n      <td>AFG</td>\n      <td>1753</td>\n      <td>NaN</td>\n      <td>NaN</td>\n      <td>NaN</td>\n      <td>NaN</td>\n      <td>NaN</td>\n      <td>NaN</td>\n      <td>NaN</td>\n    </tr>\n    <tr>\n      <th>4</th>\n      <td>Afeganistão</td>\n      <td>AFG</td>\n      <td>1754</td>\n      <td>NaN</td>\n      <td>NaN</td>\n      <td>NaN</td>\n      <td>NaN</td>\n      <td>NaN</td>\n      <td>NaN</td>\n      <td>NaN</td>\n    </tr>\n  </tbody>\n</table>\n</div>"
     },
     "execution_count": 23,
     "metadata": {},
     "output_type": "execute_result"
    }
   ],
   "source": [
    "percapita = pd.read_excel(url, sheet_name='emissoes_percapita')\n",
    "percapita.head()"
   ],
   "metadata": {
    "collapsed": false,
    "ExecuteTime": {
     "end_time": "2023-12-20T13:22:13.539514700Z",
     "start_time": "2023-12-20T13:21:54.436390Z"
    }
   },
   "id": "2a96e1b7f16a2635"
  },
  {
   "cell_type": "code",
   "execution_count": 24,
   "outputs": [
    {
     "data": {
      "text/plain": "          País ISO 3166-1 alpha-3   Ano   Total  Carvão    Oléo     Gás  \\\n0  Afeganistão                AFG  1750  [NONE]  [NONE]  [NONE]  [NONE]   \n1  Afeganistão                AFG  1751  [NONE]  [NONE]  [NONE]  [NONE]   \n2  Afeganistão                AFG  1752  [NONE]  [NONE]  [NONE]  [NONE]   \n3  Afeganistão                AFG  1753  [NONE]  [NONE]  [NONE]  [NONE]   \n4  Afeganistão                AFG  1754  [NONE]  [NONE]  [NONE]  [NONE]   \n\n  Cimento  Queima   Outro Per Capita  \n0  [NONE]  [NONE]  [NONE]     [NONE]  \n1  [NONE]  [NONE]  [NONE]     [NONE]  \n2  [NONE]  [NONE]  [NONE]     [NONE]  \n3  [NONE]  [NONE]  [NONE]     [NONE]  \n4  [NONE]  [NONE]  [NONE]     [NONE]  ",
      "text/html": "<div>\n<style scoped>\n    .dataframe tbody tr th:only-of-type {\n        vertical-align: middle;\n    }\n\n    .dataframe tbody tr th {\n        vertical-align: top;\n    }\n\n    .dataframe thead th {\n        text-align: right;\n    }\n</style>\n<table border=\"1\" class=\"dataframe\">\n  <thead>\n    <tr style=\"text-align: right;\">\n      <th></th>\n      <th>País</th>\n      <th>ISO 3166-1 alpha-3</th>\n      <th>Ano</th>\n      <th>Total</th>\n      <th>Carvão</th>\n      <th>Oléo</th>\n      <th>Gás</th>\n      <th>Cimento</th>\n      <th>Queima</th>\n      <th>Outro</th>\n      <th>Per Capita</th>\n    </tr>\n  </thead>\n  <tbody>\n    <tr>\n      <th>0</th>\n      <td>Afeganistão</td>\n      <td>AFG</td>\n      <td>1750</td>\n      <td>[NONE]</td>\n      <td>[NONE]</td>\n      <td>[NONE]</td>\n      <td>[NONE]</td>\n      <td>[NONE]</td>\n      <td>[NONE]</td>\n      <td>[NONE]</td>\n      <td>[NONE]</td>\n    </tr>\n    <tr>\n      <th>1</th>\n      <td>Afeganistão</td>\n      <td>AFG</td>\n      <td>1751</td>\n      <td>[NONE]</td>\n      <td>[NONE]</td>\n      <td>[NONE]</td>\n      <td>[NONE]</td>\n      <td>[NONE]</td>\n      <td>[NONE]</td>\n      <td>[NONE]</td>\n      <td>[NONE]</td>\n    </tr>\n    <tr>\n      <th>2</th>\n      <td>Afeganistão</td>\n      <td>AFG</td>\n      <td>1752</td>\n      <td>[NONE]</td>\n      <td>[NONE]</td>\n      <td>[NONE]</td>\n      <td>[NONE]</td>\n      <td>[NONE]</td>\n      <td>[NONE]</td>\n      <td>[NONE]</td>\n      <td>[NONE]</td>\n    </tr>\n    <tr>\n      <th>3</th>\n      <td>Afeganistão</td>\n      <td>AFG</td>\n      <td>1753</td>\n      <td>[NONE]</td>\n      <td>[NONE]</td>\n      <td>[NONE]</td>\n      <td>[NONE]</td>\n      <td>[NONE]</td>\n      <td>[NONE]</td>\n      <td>[NONE]</td>\n      <td>[NONE]</td>\n    </tr>\n    <tr>\n      <th>4</th>\n      <td>Afeganistão</td>\n      <td>AFG</td>\n      <td>1754</td>\n      <td>[NONE]</td>\n      <td>[NONE]</td>\n      <td>[NONE]</td>\n      <td>[NONE]</td>\n      <td>[NONE]</td>\n      <td>[NONE]</td>\n      <td>[NONE]</td>\n      <td>[NONE]</td>\n    </tr>\n  </tbody>\n</table>\n</div>"
     },
     "execution_count": 24,
     "metadata": {},
     "output_type": "execute_result"
    }
   ],
   "source": [
    "fontes = pd.read_excel(url, sheet_name='fontes')\n",
    "fontes.head()\n",
    "\n"
   ],
   "metadata": {
    "collapsed": false,
    "ExecuteTime": {
     "end_time": "2023-12-20T13:23:25.424957300Z",
     "start_time": "2023-12-20T13:23:07.037302800Z"
    }
   },
   "id": "b6aead838960a45"
  },
  {
   "cell_type": "code",
   "execution_count": 26,
   "outputs": [],
   "source": [
    "emissoes = pd.read_excel(url, sheet_name='emissoes_C02', usecols='A:D',nrows=10)"
   ],
   "metadata": {
    "collapsed": false,
    "ExecuteTime": {
     "end_time": "2023-12-20T13:46:43.999083600Z",
     "start_time": "2023-12-20T13:46:33.760173600Z"
    }
   },
   "id": "aabb54962723fbee"
  },
  {
   "cell_type": "code",
   "execution_count": 27,
   "outputs": [],
   "source": [
    "percapita.to_excel('co2_percapita.xlsx', index= False)"
   ],
   "metadata": {
    "collapsed": false,
    "ExecuteTime": {
     "end_time": "2023-12-20T13:48:49.320256300Z",
     "start_time": "2023-12-20T13:48:37.189108100Z"
    }
   },
   "id": "37c2ea515e358941"
  },
  {
   "cell_type": "code",
   "execution_count": null,
   "outputs": [],
   "source": [
    "\"\"\"\n",
    "para ler os dados de uma planilha do google sheets, vamos precisar colocar o id dentro de uma variavel\n",
    "url = f 'site/tipo de arquivo/id do arquivo/gviz/tq?tqx=out:csv&sheet'\n",
    "\"\"\""
   ],
   "metadata": {
    "collapsed": false
   },
   "id": "610b37f45ff9d1cf"
  },
  {
   "cell_type": "code",
   "execution_count": null,
   "outputs": [],
   "source": [],
   "metadata": {
    "collapsed": false
   },
   "id": "c12a93e99cfa4f27"
  }
 ],
 "metadata": {
  "kernelspec": {
   "display_name": "Python 3",
   "language": "python",
   "name": "python3"
  },
  "language_info": {
   "codemirror_mode": {
    "name": "ipython",
    "version": 2
   },
   "file_extension": ".py",
   "mimetype": "text/x-python",
   "name": "python",
   "nbconvert_exporter": "python",
   "pygments_lexer": "ipython2",
   "version": "2.7.6"
  }
 },
 "nbformat": 4,
 "nbformat_minor": 5
}
