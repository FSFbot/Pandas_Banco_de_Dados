{
 "cells": [
  {
   "cell_type": "code",
   "execution_count": 3,
   "id": "initial_id",
   "metadata": {
    "collapsed": true,
    "ExecuteTime": {
     "end_time": "2023-12-20T14:16:35.190805500Z",
     "start_time": "2023-12-20T14:16:35.085702Z"
    }
   },
   "outputs": [],
   "source": [
    "import pandas as pd\n",
    "import requests\n",
    "import json"
   ]
  },
  {
   "cell_type": "code",
   "execution_count": 4,
   "outputs": [
    {
     "data": {
      "text/plain": "<Response [200]>"
     },
     "execution_count": 4,
     "metadata": {},
     "output_type": "execute_result"
    }
   ],
   "source": [
    "dados_frutas = requests.get('https://fruityvice.com/api/fruit/all')\n",
    "dados_frutas"
   ],
   "metadata": {
    "collapsed": false,
    "ExecuteTime": {
     "end_time": "2023-12-20T14:16:55.542889900Z",
     "start_time": "2023-12-20T14:16:54.175575600Z"
    }
   },
   "id": "b7422ba3e298b104"
  },
  {
   "cell_type": "code",
   "execution_count": 5,
   "outputs": [],
   "source": [
    "resultado = json.loads(dados_frutas.text)\n"
   ],
   "metadata": {
    "collapsed": false,
    "ExecuteTime": {
     "end_time": "2023-12-20T14:17:19.220049200Z",
     "start_time": "2023-12-20T14:17:19.214052200Z"
    }
   },
   "id": "55cffdefce5c87b8"
  },
  {
   "cell_type": "code",
   "execution_count": 6,
   "outputs": [
    {
     "data": {
      "text/plain": "            name  id           family             order         genus  \\\n0      Persimmon  52        Ebenaceae           Rosales     Diospyros   \n1     Strawberry   3         Rosaceae           Rosales      Fragaria   \n2         Banana   1         Musaceae      Zingiberales          Musa   \n3         Tomato   5       Solanaceae         Solanales       Solanum   \n4           Pear   4         Rosaceae           Rosales         Pyrus   \n5         Durian  60        Malvaceae          Malvales         Durio   \n6     Blackberry  64         Rosaceae           Rosales         Rubus   \n7    Lingonberry  65        Ericaceae          Ericales     Vaccinium   \n8           Kiwi  66    Actinidiaceae  Struthioniformes       Apteryx   \n9         Lychee  67      Sapindaceae        Sapindales        Litchi   \n10     Pineapple  10     Bromeliaceae            Poales        Ananas   \n11           Fig  68         Moraceae           Rosales         Ficus   \n12    Gooseberry  69  Grossulariaceae      Saxifragales         Ribes   \n13  Passionfruit  70   Passifloraceae      Malpighiales    Passiflora   \n14          Plum  71         Rosaceae           Rosales        Prunus   \n15        Orange   2         Rutaceae        Sapindales        Citrus   \n16    GreenApple  72         Rosaceae           Rosales         Malus   \n17     Raspberry  23         Rosaceae           Rosales         Rubus   \n18    Watermelon  25    Cucurbitaceae      Cucurbitales     Citrullus   \n19         Lemon  26         Rutaceae        Sapindales        Citrus   \n20         Mango  27    Anacardiaceae        Sapindales     Mangifera   \n21     Blueberry  33         Rosaceae           Rosales      Fragaria   \n22         Apple   6         Rosaceae           Rosales         Malus   \n23         Guava  37        Myrtaceae          Myrtales       Psidium   \n24       Apricot  35         Rosaceae           Rosales        Prunus   \n25        Papaya  42       Caricaceae         Caricacea        Carica   \n26         Melon  41    Cucurbitaceae     Cucurbitaceae       Cucumis   \n27     Tangerine  77         Rutaceae        Sapindales        Citrus   \n28      Pitahaya  78        Cactaceae    Caryophyllales     Cactaceae   \n29          Lime  44         Rutaceae        Sapindales        Citrus   \n30   Pomegranate  79       Lythraceae          Myrtales        Punica   \n31   Dragonfruit  80        Cactaceae    Caryophyllales  Selenicereus   \n32         Grape  81         Vitaceae           Vitales         Vitis   \n33         Morus  82         Moraceae           Rosales         Morus   \n34        Feijoa  76        Myrtaceae        Myrtoideae    Sellowiana   \n35       Avocado  84        Lauraceae          Laurales        Persea   \n36     Kiwifruit  85    Actinidiaceae          Ericales     Actinidia   \n37     Cranberry  87        Ericaceae          Ericales     Vaccinium   \n38        Cherry   9         Rosaceae           Rosales        Prunus   \n39         Peach  86         Rosaceae           Rosales        Prunus   \n40     Jackfruit  94         Moraceae           Rosales    Artocarpus   \n41  Horned Melon  95    Cucurbitaceae      Cucurbitales       Cucumis   \n42      Hazelnut  96       Betulaceae           Fagales       Corylus   \n43        Pomelo  98         Rutaceae        Sapindales        Citrus   \n44    Mangosteen  99       Clusiaceae      Malpighiales      Garcinia   \n\n                                           nutritions  \n0   {'calories': 81, 'fat': 0.0, 'sugar': 18.0, 'c...  \n1   {'calories': 29, 'fat': 0.4, 'sugar': 5.4, 'ca...  \n2   {'calories': 96, 'fat': 0.2, 'sugar': 17.2, 'c...  \n3   {'calories': 74, 'fat': 0.2, 'sugar': 2.6, 'ca...  \n4   {'calories': 57, 'fat': 0.1, 'sugar': 10.0, 'c...  \n5   {'calories': 147, 'fat': 5.3, 'sugar': 6.75, '...  \n6   {'calories': 40, 'fat': 0.4, 'sugar': 4.5, 'ca...  \n7   {'calories': 50, 'fat': 0.34, 'sugar': 5.74, '...  \n8   {'calories': 61, 'fat': 0.5, 'sugar': 9.0, 'ca...  \n9   {'calories': 66, 'fat': 0.44, 'sugar': 15.0, '...  \n10  {'calories': 50, 'fat': 0.12, 'sugar': 9.85, '...  \n11  {'calories': 74, 'fat': 0.3, 'sugar': 16.0, 'c...  \n12  {'calories': 44, 'fat': 0.6, 'sugar': 0.0, 'ca...  \n13  {'calories': 97, 'fat': 0.7, 'sugar': 11.2, 'c...  \n14  {'calories': 46, 'fat': 0.28, 'sugar': 9.92, '...  \n15  {'calories': 43, 'fat': 0.2, 'sugar': 8.2, 'ca...  \n16  {'calories': 21, 'fat': 0.1, 'sugar': 6.4, 'ca...  \n17  {'calories': 53, 'fat': 0.7, 'sugar': 4.4, 'ca...  \n18  {'calories': 30, 'fat': 0.2, 'sugar': 6.0, 'ca...  \n19  {'calories': 29, 'fat': 0.3, 'sugar': 2.5, 'ca...  \n20  {'calories': 60, 'fat': 0.38, 'sugar': 13.7, '...  \n21  {'calories': 29, 'fat': 0.4, 'sugar': 5.4, 'ca...  \n22  {'calories': 52, 'fat': 0.4, 'sugar': 10.3, 'c...  \n23  {'calories': 68, 'fat': 1.0, 'sugar': 9.0, 'ca...  \n24  {'calories': 15, 'fat': 0.1, 'sugar': 3.2, 'ca...  \n25  {'calories': 43, 'fat': 0.4, 'sugar': 1.0, 'ca...  \n26  {'calories': 34, 'fat': 0.0, 'sugar': 8.0, 'ca...  \n27  {'calories': 45, 'fat': 0.4, 'sugar': 9.1, 'ca...  \n28  {'calories': 36, 'fat': 0.4, 'sugar': 3.0, 'ca...  \n29  {'calories': 25, 'fat': 0.1, 'sugar': 1.7, 'ca...  \n30  {'calories': 83, 'fat': 1.2, 'sugar': 13.7, 'c...  \n31  {'calories': 60, 'fat': 1.5, 'sugar': 8.0, 'ca...  \n32  {'calories': 69, 'fat': 0.16, 'sugar': 16.0, '...  \n33  {'calories': 43, 'fat': 0.39, 'sugar': 8.1, 'c...  \n34  {'calories': 44, 'fat': 0.4, 'sugar': 3.0, 'ca...  \n35  {'calories': 160, 'fat': 14.66, 'sugar': 0.66,...  \n36  {'calories': 61, 'fat': 0.5, 'sugar': 8.9, 'ca...  \n37  {'calories': 46, 'fat': 0.1, 'sugar': 4.0, 'ca...  \n38  {'calories': 50, 'fat': 0.3, 'sugar': 8.0, 'ca...  \n39  {'calories': 39, 'fat': 0.25, 'sugar': 8.4, 'c...  \n40  {'calories': 95, 'fat': 0.0, 'sugar': 19.1, 'c...  \n41  {'calories': 44, 'fat': 1.26, 'sugar': 0.5, 'c...  \n42  {'calories': 628, 'fat': 61.0, 'sugar': 4.3, '...  \n43  {'calories': 37, 'fat': 0.0, 'sugar': 8.5, 'ca...  \n44  {'calories': 73, 'fat': 0.58, 'sugar': 16.11, ...  ",
      "text/html": "<div>\n<style scoped>\n    .dataframe tbody tr th:only-of-type {\n        vertical-align: middle;\n    }\n\n    .dataframe tbody tr th {\n        vertical-align: top;\n    }\n\n    .dataframe thead th {\n        text-align: right;\n    }\n</style>\n<table border=\"1\" class=\"dataframe\">\n  <thead>\n    <tr style=\"text-align: right;\">\n      <th></th>\n      <th>name</th>\n      <th>id</th>\n      <th>family</th>\n      <th>order</th>\n      <th>genus</th>\n      <th>nutritions</th>\n    </tr>\n  </thead>\n  <tbody>\n    <tr>\n      <th>0</th>\n      <td>Persimmon</td>\n      <td>52</td>\n      <td>Ebenaceae</td>\n      <td>Rosales</td>\n      <td>Diospyros</td>\n      <td>{'calories': 81, 'fat': 0.0, 'sugar': 18.0, 'c...</td>\n    </tr>\n    <tr>\n      <th>1</th>\n      <td>Strawberry</td>\n      <td>3</td>\n      <td>Rosaceae</td>\n      <td>Rosales</td>\n      <td>Fragaria</td>\n      <td>{'calories': 29, 'fat': 0.4, 'sugar': 5.4, 'ca...</td>\n    </tr>\n    <tr>\n      <th>2</th>\n      <td>Banana</td>\n      <td>1</td>\n      <td>Musaceae</td>\n      <td>Zingiberales</td>\n      <td>Musa</td>\n      <td>{'calories': 96, 'fat': 0.2, 'sugar': 17.2, 'c...</td>\n    </tr>\n    <tr>\n      <th>3</th>\n      <td>Tomato</td>\n      <td>5</td>\n      <td>Solanaceae</td>\n      <td>Solanales</td>\n      <td>Solanum</td>\n      <td>{'calories': 74, 'fat': 0.2, 'sugar': 2.6, 'ca...</td>\n    </tr>\n    <tr>\n      <th>4</th>\n      <td>Pear</td>\n      <td>4</td>\n      <td>Rosaceae</td>\n      <td>Rosales</td>\n      <td>Pyrus</td>\n      <td>{'calories': 57, 'fat': 0.1, 'sugar': 10.0, 'c...</td>\n    </tr>\n    <tr>\n      <th>5</th>\n      <td>Durian</td>\n      <td>60</td>\n      <td>Malvaceae</td>\n      <td>Malvales</td>\n      <td>Durio</td>\n      <td>{'calories': 147, 'fat': 5.3, 'sugar': 6.75, '...</td>\n    </tr>\n    <tr>\n      <th>6</th>\n      <td>Blackberry</td>\n      <td>64</td>\n      <td>Rosaceae</td>\n      <td>Rosales</td>\n      <td>Rubus</td>\n      <td>{'calories': 40, 'fat': 0.4, 'sugar': 4.5, 'ca...</td>\n    </tr>\n    <tr>\n      <th>7</th>\n      <td>Lingonberry</td>\n      <td>65</td>\n      <td>Ericaceae</td>\n      <td>Ericales</td>\n      <td>Vaccinium</td>\n      <td>{'calories': 50, 'fat': 0.34, 'sugar': 5.74, '...</td>\n    </tr>\n    <tr>\n      <th>8</th>\n      <td>Kiwi</td>\n      <td>66</td>\n      <td>Actinidiaceae</td>\n      <td>Struthioniformes</td>\n      <td>Apteryx</td>\n      <td>{'calories': 61, 'fat': 0.5, 'sugar': 9.0, 'ca...</td>\n    </tr>\n    <tr>\n      <th>9</th>\n      <td>Lychee</td>\n      <td>67</td>\n      <td>Sapindaceae</td>\n      <td>Sapindales</td>\n      <td>Litchi</td>\n      <td>{'calories': 66, 'fat': 0.44, 'sugar': 15.0, '...</td>\n    </tr>\n    <tr>\n      <th>10</th>\n      <td>Pineapple</td>\n      <td>10</td>\n      <td>Bromeliaceae</td>\n      <td>Poales</td>\n      <td>Ananas</td>\n      <td>{'calories': 50, 'fat': 0.12, 'sugar': 9.85, '...</td>\n    </tr>\n    <tr>\n      <th>11</th>\n      <td>Fig</td>\n      <td>68</td>\n      <td>Moraceae</td>\n      <td>Rosales</td>\n      <td>Ficus</td>\n      <td>{'calories': 74, 'fat': 0.3, 'sugar': 16.0, 'c...</td>\n    </tr>\n    <tr>\n      <th>12</th>\n      <td>Gooseberry</td>\n      <td>69</td>\n      <td>Grossulariaceae</td>\n      <td>Saxifragales</td>\n      <td>Ribes</td>\n      <td>{'calories': 44, 'fat': 0.6, 'sugar': 0.0, 'ca...</td>\n    </tr>\n    <tr>\n      <th>13</th>\n      <td>Passionfruit</td>\n      <td>70</td>\n      <td>Passifloraceae</td>\n      <td>Malpighiales</td>\n      <td>Passiflora</td>\n      <td>{'calories': 97, 'fat': 0.7, 'sugar': 11.2, 'c...</td>\n    </tr>\n    <tr>\n      <th>14</th>\n      <td>Plum</td>\n      <td>71</td>\n      <td>Rosaceae</td>\n      <td>Rosales</td>\n      <td>Prunus</td>\n      <td>{'calories': 46, 'fat': 0.28, 'sugar': 9.92, '...</td>\n    </tr>\n    <tr>\n      <th>15</th>\n      <td>Orange</td>\n      <td>2</td>\n      <td>Rutaceae</td>\n      <td>Sapindales</td>\n      <td>Citrus</td>\n      <td>{'calories': 43, 'fat': 0.2, 'sugar': 8.2, 'ca...</td>\n    </tr>\n    <tr>\n      <th>16</th>\n      <td>GreenApple</td>\n      <td>72</td>\n      <td>Rosaceae</td>\n      <td>Rosales</td>\n      <td>Malus</td>\n      <td>{'calories': 21, 'fat': 0.1, 'sugar': 6.4, 'ca...</td>\n    </tr>\n    <tr>\n      <th>17</th>\n      <td>Raspberry</td>\n      <td>23</td>\n      <td>Rosaceae</td>\n      <td>Rosales</td>\n      <td>Rubus</td>\n      <td>{'calories': 53, 'fat': 0.7, 'sugar': 4.4, 'ca...</td>\n    </tr>\n    <tr>\n      <th>18</th>\n      <td>Watermelon</td>\n      <td>25</td>\n      <td>Cucurbitaceae</td>\n      <td>Cucurbitales</td>\n      <td>Citrullus</td>\n      <td>{'calories': 30, 'fat': 0.2, 'sugar': 6.0, 'ca...</td>\n    </tr>\n    <tr>\n      <th>19</th>\n      <td>Lemon</td>\n      <td>26</td>\n      <td>Rutaceae</td>\n      <td>Sapindales</td>\n      <td>Citrus</td>\n      <td>{'calories': 29, 'fat': 0.3, 'sugar': 2.5, 'ca...</td>\n    </tr>\n    <tr>\n      <th>20</th>\n      <td>Mango</td>\n      <td>27</td>\n      <td>Anacardiaceae</td>\n      <td>Sapindales</td>\n      <td>Mangifera</td>\n      <td>{'calories': 60, 'fat': 0.38, 'sugar': 13.7, '...</td>\n    </tr>\n    <tr>\n      <th>21</th>\n      <td>Blueberry</td>\n      <td>33</td>\n      <td>Rosaceae</td>\n      <td>Rosales</td>\n      <td>Fragaria</td>\n      <td>{'calories': 29, 'fat': 0.4, 'sugar': 5.4, 'ca...</td>\n    </tr>\n    <tr>\n      <th>22</th>\n      <td>Apple</td>\n      <td>6</td>\n      <td>Rosaceae</td>\n      <td>Rosales</td>\n      <td>Malus</td>\n      <td>{'calories': 52, 'fat': 0.4, 'sugar': 10.3, 'c...</td>\n    </tr>\n    <tr>\n      <th>23</th>\n      <td>Guava</td>\n      <td>37</td>\n      <td>Myrtaceae</td>\n      <td>Myrtales</td>\n      <td>Psidium</td>\n      <td>{'calories': 68, 'fat': 1.0, 'sugar': 9.0, 'ca...</td>\n    </tr>\n    <tr>\n      <th>24</th>\n      <td>Apricot</td>\n      <td>35</td>\n      <td>Rosaceae</td>\n      <td>Rosales</td>\n      <td>Prunus</td>\n      <td>{'calories': 15, 'fat': 0.1, 'sugar': 3.2, 'ca...</td>\n    </tr>\n    <tr>\n      <th>25</th>\n      <td>Papaya</td>\n      <td>42</td>\n      <td>Caricaceae</td>\n      <td>Caricacea</td>\n      <td>Carica</td>\n      <td>{'calories': 43, 'fat': 0.4, 'sugar': 1.0, 'ca...</td>\n    </tr>\n    <tr>\n      <th>26</th>\n      <td>Melon</td>\n      <td>41</td>\n      <td>Cucurbitaceae</td>\n      <td>Cucurbitaceae</td>\n      <td>Cucumis</td>\n      <td>{'calories': 34, 'fat': 0.0, 'sugar': 8.0, 'ca...</td>\n    </tr>\n    <tr>\n      <th>27</th>\n      <td>Tangerine</td>\n      <td>77</td>\n      <td>Rutaceae</td>\n      <td>Sapindales</td>\n      <td>Citrus</td>\n      <td>{'calories': 45, 'fat': 0.4, 'sugar': 9.1, 'ca...</td>\n    </tr>\n    <tr>\n      <th>28</th>\n      <td>Pitahaya</td>\n      <td>78</td>\n      <td>Cactaceae</td>\n      <td>Caryophyllales</td>\n      <td>Cactaceae</td>\n      <td>{'calories': 36, 'fat': 0.4, 'sugar': 3.0, 'ca...</td>\n    </tr>\n    <tr>\n      <th>29</th>\n      <td>Lime</td>\n      <td>44</td>\n      <td>Rutaceae</td>\n      <td>Sapindales</td>\n      <td>Citrus</td>\n      <td>{'calories': 25, 'fat': 0.1, 'sugar': 1.7, 'ca...</td>\n    </tr>\n    <tr>\n      <th>30</th>\n      <td>Pomegranate</td>\n      <td>79</td>\n      <td>Lythraceae</td>\n      <td>Myrtales</td>\n      <td>Punica</td>\n      <td>{'calories': 83, 'fat': 1.2, 'sugar': 13.7, 'c...</td>\n    </tr>\n    <tr>\n      <th>31</th>\n      <td>Dragonfruit</td>\n      <td>80</td>\n      <td>Cactaceae</td>\n      <td>Caryophyllales</td>\n      <td>Selenicereus</td>\n      <td>{'calories': 60, 'fat': 1.5, 'sugar': 8.0, 'ca...</td>\n    </tr>\n    <tr>\n      <th>32</th>\n      <td>Grape</td>\n      <td>81</td>\n      <td>Vitaceae</td>\n      <td>Vitales</td>\n      <td>Vitis</td>\n      <td>{'calories': 69, 'fat': 0.16, 'sugar': 16.0, '...</td>\n    </tr>\n    <tr>\n      <th>33</th>\n      <td>Morus</td>\n      <td>82</td>\n      <td>Moraceae</td>\n      <td>Rosales</td>\n      <td>Morus</td>\n      <td>{'calories': 43, 'fat': 0.39, 'sugar': 8.1, 'c...</td>\n    </tr>\n    <tr>\n      <th>34</th>\n      <td>Feijoa</td>\n      <td>76</td>\n      <td>Myrtaceae</td>\n      <td>Myrtoideae</td>\n      <td>Sellowiana</td>\n      <td>{'calories': 44, 'fat': 0.4, 'sugar': 3.0, 'ca...</td>\n    </tr>\n    <tr>\n      <th>35</th>\n      <td>Avocado</td>\n      <td>84</td>\n      <td>Lauraceae</td>\n      <td>Laurales</td>\n      <td>Persea</td>\n      <td>{'calories': 160, 'fat': 14.66, 'sugar': 0.66,...</td>\n    </tr>\n    <tr>\n      <th>36</th>\n      <td>Kiwifruit</td>\n      <td>85</td>\n      <td>Actinidiaceae</td>\n      <td>Ericales</td>\n      <td>Actinidia</td>\n      <td>{'calories': 61, 'fat': 0.5, 'sugar': 8.9, 'ca...</td>\n    </tr>\n    <tr>\n      <th>37</th>\n      <td>Cranberry</td>\n      <td>87</td>\n      <td>Ericaceae</td>\n      <td>Ericales</td>\n      <td>Vaccinium</td>\n      <td>{'calories': 46, 'fat': 0.1, 'sugar': 4.0, 'ca...</td>\n    </tr>\n    <tr>\n      <th>38</th>\n      <td>Cherry</td>\n      <td>9</td>\n      <td>Rosaceae</td>\n      <td>Rosales</td>\n      <td>Prunus</td>\n      <td>{'calories': 50, 'fat': 0.3, 'sugar': 8.0, 'ca...</td>\n    </tr>\n    <tr>\n      <th>39</th>\n      <td>Peach</td>\n      <td>86</td>\n      <td>Rosaceae</td>\n      <td>Rosales</td>\n      <td>Prunus</td>\n      <td>{'calories': 39, 'fat': 0.25, 'sugar': 8.4, 'c...</td>\n    </tr>\n    <tr>\n      <th>40</th>\n      <td>Jackfruit</td>\n      <td>94</td>\n      <td>Moraceae</td>\n      <td>Rosales</td>\n      <td>Artocarpus</td>\n      <td>{'calories': 95, 'fat': 0.0, 'sugar': 19.1, 'c...</td>\n    </tr>\n    <tr>\n      <th>41</th>\n      <td>Horned Melon</td>\n      <td>95</td>\n      <td>Cucurbitaceae</td>\n      <td>Cucurbitales</td>\n      <td>Cucumis</td>\n      <td>{'calories': 44, 'fat': 1.26, 'sugar': 0.5, 'c...</td>\n    </tr>\n    <tr>\n      <th>42</th>\n      <td>Hazelnut</td>\n      <td>96</td>\n      <td>Betulaceae</td>\n      <td>Fagales</td>\n      <td>Corylus</td>\n      <td>{'calories': 628, 'fat': 61.0, 'sugar': 4.3, '...</td>\n    </tr>\n    <tr>\n      <th>43</th>\n      <td>Pomelo</td>\n      <td>98</td>\n      <td>Rutaceae</td>\n      <td>Sapindales</td>\n      <td>Citrus</td>\n      <td>{'calories': 37, 'fat': 0.0, 'sugar': 8.5, 'ca...</td>\n    </tr>\n    <tr>\n      <th>44</th>\n      <td>Mangosteen</td>\n      <td>99</td>\n      <td>Clusiaceae</td>\n      <td>Malpighiales</td>\n      <td>Garcinia</td>\n      <td>{'calories': 73, 'fat': 0.58, 'sugar': 16.11, ...</td>\n    </tr>\n  </tbody>\n</table>\n</div>"
     },
     "execution_count": 6,
     "metadata": {},
     "output_type": "execute_result"
    }
   ],
   "source": [
    "pd.DataFrame(resultado)"
   ],
   "metadata": {
    "collapsed": false,
    "ExecuteTime": {
     "end_time": "2023-12-20T14:17:41.632990300Z",
     "start_time": "2023-12-20T14:17:41.609311600Z"
    }
   },
   "id": "5e40b079ee62dc66"
  },
  {
   "cell_type": "code",
   "execution_count": 7,
   "outputs": [
    {
     "ename": "TypeError",
     "evalue": "list indices must be integers or slices, not str",
     "output_type": "error",
     "traceback": [
      "\u001B[1;31m---------------------------------------------------------------------------\u001B[0m",
      "\u001B[1;31mTypeError\u001B[0m                                 Traceback (most recent call last)",
      "Cell \u001B[1;32mIn[7], line 1\u001B[0m\n\u001B[1;32m----> 1\u001B[0m pd_filter \u001B[38;5;241m=\u001B[39m \u001B[43mresultado\u001B[49m\u001B[43m[\u001B[49m\u001B[38;5;124;43m'\u001B[39;49m\u001B[38;5;124;43mfamily\u001B[39;49m\u001B[38;5;124;43m'\u001B[39;49m\u001B[43m]\u001B[49m\n",
      "\u001B[1;31mTypeError\u001B[0m: list indices must be integers or slices, not str"
     ]
    }
   ],
   "source": [],
   "metadata": {
    "collapsed": false,
    "ExecuteTime": {
     "end_time": "2023-12-20T14:19:29.867951800Z",
     "start_time": "2023-12-20T14:19:29.822377600Z"
    }
   },
   "id": "98a3d3fb594cf7f9"
  }
 ],
 "metadata": {
  "kernelspec": {
   "display_name": "Python 3",
   "language": "python",
   "name": "python3"
  },
  "language_info": {
   "codemirror_mode": {
    "name": "ipython",
    "version": 2
   },
   "file_extension": ".py",
   "mimetype": "text/x-python",
   "name": "python",
   "nbconvert_exporter": "python",
   "pygments_lexer": "ipython2",
   "version": "2.7.6"
  }
 },
 "nbformat": 4,
 "nbformat_minor": 5
}
